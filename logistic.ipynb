{
 "cells": [
  {
   "cell_type": "code",
   "execution_count": 1,
   "metadata": {},
   "outputs": [],
   "source": [
    "import pandas as pd\n",
    "from sklearn.model_selection import train_test_split\n",
    "from sklearn.linear_model import LogisticRegression\n",
    "from sklearn.preprocessing import StandardScaler\n",
    "from sklearn.metrics import accuracy_score, classification_report\n",
    "from sklearn.preprocessing import LabelEncoder, StandardScaler\n",
    "from sklearn.impute import SimpleImputer"
   ]
  },
  {
   "cell_type": "code",
   "execution_count": 2,
   "metadata": {},
   "outputs": [
    {
     "name": "stdout",
     "output_type": "stream",
     "text": [
      "272428\n"
     ]
    }
   ],
   "source": [
    "# Load and preprocess data\n",
    "file_path = '/Users/pvuda/Documents/f/combined_file.csv'\n",
    "data = pd.read_csv(file_path)\n",
    "print(len(data))"
   ]
  },
  {
   "cell_type": "code",
   "execution_count": 3,
   "metadata": {},
   "outputs": [
    {
     "name": "stdout",
     "output_type": "stream",
     "text": [
      "130\n"
     ]
    }
   ],
   "source": [
    "x_cols = ['spectral_bandwidth_min', 'spectral_contrast_mean',\n",
    "       'spectral_contrast_std', 'spectral_contrast_var',\n",
    "       'spectral_contrast_max', 'spectral_contrast_range',\n",
    "       'spectral_contrast_50th_percentile',\n",
    "       'spectral_contrast_75th_percentile', 'spectral_contrast_skew',\n",
    "       'spectral_contrast_kurtosis','spectral_contrast_mean', 'spectral_contrast_std',\n",
    "       'spectral_contrast_var', 'spectral_contrast_max',\n",
    "       'spectral_contrast_range', 'spectral_contrast_25th_percentile',\n",
    "       'spectral_contrast_50th_percentile',\n",
    "       'spectral_contrast_75th_percentile', 'spectral_contrast_skew',\n",
    "       'spectral_flatness_max','spectral_contrast_mean', 'spectral_contrast_std',\n",
    "       'spectral_contrast_var', 'spectral_contrast_max',\n",
    "       'spectral_contrast_range', 'spectral_contrast_skew',\n",
    "       'spectral_flux_std', 'energy_std', 'energy_max', 'energy_range','spectral_bandwidth_25th_percentile', 'spectral_contrast_std',\n",
    "       'spectral_contrast_var', 'spectral_contrast_75th_percentile',\n",
    "       'spectral_contrast_skew', 'spectral_contrast_kurtosis', 'shimmer_local',\n",
    "       'shimmer_apq3', 'shimmer_apq5', 'shimmer_dda','spectral_contrast_mean', 'spectral_contrast_max',\n",
    "       'spectral_contrast_range', 'spectral_contrast_25th_percentile',\n",
    "       'spectral_contrast_50th_percentile',\n",
    "       'spectral_contrast_75th_percentile', 'spectral_contrast_skew',\n",
    "       'spectral_contrast_kurtosis', 'jitter_rap', 'jitter_ppq5','spectral_contrast_mean', 'spectral_contrast_std',\n",
    "       'spectral_contrast_var', 'spectral_contrast_max',\n",
    "       'spectral_contrast_range', 'spectral_contrast_skew',\n",
    "       'spectral_flux_std', 'energy_std', 'energy_max', 'energy_range','spectral_contrast_mean', 'spectral_contrast_max',\n",
    "       'spectral_contrast_range', 'spectral_contrast_50th_percentile',\n",
    "       'spectral_contrast_75th_percentile', 'jitter_ppq5', 'shimmer_local',\n",
    "       'speakingrate', 'articulationrate', 'asd','spectral_contrast_mean', 'spectral_contrast_25th_percentile',\n",
    "       'spectral_contrast_50th_percentile',\n",
    "       'spectral_contrast_75th_percentile', 'spectral_contrast_skew',\n",
    "       'spectral_contrast_kurtosis', 'spectral_flatness_mean', 'jitter_local',\n",
    "       'jitter_rap', 'jitter_ppq5','spectral_contrast_mean', 'spectral_contrast_25th_percentile',\n",
    "       'spectral_contrast_50th_percentile',\n",
    "       'spectral_contrast_75th_percentile', 'spectral_contrast_skew',\n",
    "       'spectral_contrast_kurtosis', 'jitter_rap', 'jitter_ppq5',\n",
    "       'shimmer_apq3', 'shimmer_dda','spectral_contrast_std', 'spectral_contrast_var',\n",
    "       'spectral_contrast_max', 'spectral_contrast_range',\n",
    "       'spectral_contrast_25th_percentile', 'shimmer_apq3', 'shimmer_dda',\n",
    "       'speakingrate', 'articulationrate', 'asd','spectral_contrast_mean', 'spectral_contrast_25th_percentile',\n",
    "       'spectral_contrast_50th_percentile',\n",
    "       'spectral_contrast_75th_percentile', 'spectral_contrast_skew',\n",
    "       'spectral_contrast_kurtosis', 'mfcc_4_75th_percentile', 'jitter_rap',\n",
    "       'jitter_ppq5', 'hnr','spectral_contrast_mean', 'spectral_contrast_50th_percentile',\n",
    "       'spectral_contrast_75th_percentile', 'spectral_contrast_skew',\n",
    "       'spectral_contrast_kurtosis', 'spectral_flux_mean', 'energy_mean',\n",
    "       'energy_75th_percentile', 'jitter_rap', 'jitter_ppq5','spectral_contrast_mean', 'spectral_contrast_25th_percentile',\n",
    "       'spectral_contrast_50th_percentile',\n",
    "       'spectral_contrast_75th_percentile', 'spectral_contrast_skew',\n",
    "       'spectral_contrast_kurtosis', 'shimmer_local', 'shimmer_apq3',\n",
    "       'shimmer_apq5', 'shimmer_dda']\n",
    "print(len(x_cols))"
   ]
  },
  {
   "cell_type": "markdown",
   "metadata": {},
   "source": [
    "## Binary Classification"
   ]
  },
  {
   "cell_type": "code",
   "execution_count": 4,
   "metadata": {},
   "outputs": [],
   "source": [
    "# Create a new target variable for binary classification\n",
    "data['real_or_fake_general'] = data['real_or_fake'].apply(lambda x: 'R' if x == 'R' else 'F')\n",
    "\n",
    "# Encode the binary labels\n",
    "label_encoder = LabelEncoder()\n",
    "data['real_or_fake_general'] = label_encoder.fit_transform(data['real_or_fake_general'])\n",
    "\n",
    "# Prepare feature matrix and target vector\n",
    "# X = data.drop(columns=['audio_id', 'real_or_fake', 'real_or_fake_general'])\n",
    "X = data[x_cols]\n",
    "y = data['real_or_fake_general']"
   ]
  },
  {
   "cell_type": "code",
   "execution_count": 5,
   "metadata": {},
   "outputs": [],
   "source": [
    "# Handle missing values in X\n",
    "imputer = SimpleImputer(strategy='mean')\n",
    "X_imputed = imputer.fit_transform(X)"
   ]
  },
  {
   "cell_type": "code",
   "execution_count": 6,
   "metadata": {},
   "outputs": [],
   "source": [
    "# Assuming X and y are already defined and preprocessed\n",
    "# Split data into training and testing sets\n",
    "X_train, X_test, y_train, y_test = train_test_split(X_imputed, y, test_size=0.2, random_state=42)"
   ]
  },
  {
   "cell_type": "code",
   "execution_count": 7,
   "metadata": {},
   "outputs": [],
   "source": [
    "# Optionally, scale the features\n",
    "scaler = StandardScaler()\n",
    "X_train_scaled = scaler.fit_transform(X_train)\n",
    "X_test_scaled = scaler.transform(X_test)"
   ]
  },
  {
   "cell_type": "code",
   "execution_count": 8,
   "metadata": {},
   "outputs": [
    {
     "name": "stdout",
     "output_type": "stream",
     "text": [
      "Accuracy: 0.93\n",
      "              precision    recall  f1-score   support\n",
      "\n",
      "           0       0.96      0.97      0.96     46897\n",
      "           1       0.79      0.72      0.76      7589\n",
      "\n",
      "    accuracy                           0.93     54486\n",
      "   macro avg       0.87      0.85      0.86     54486\n",
      "weighted avg       0.93      0.93      0.93     54486\n",
      "\n"
     ]
    }
   ],
   "source": [
    "# Instantiate logistic regression model\n",
    "logreg = LogisticRegression(max_iter=1000)  # Increase max_iter if needed for convergence\n",
    "\n",
    "# Fit the model\n",
    "logreg.fit(X_train_scaled, y_train)\n",
    "\n",
    "# Predict on test set\n",
    "y_pred = logreg.predict(X_test_scaled)\n",
    "\n",
    "# Evaluate the model\n",
    "accuracy = accuracy_score(y_test, y_pred)\n",
    "print(f\"Accuracy: {accuracy:.2f}\")\n",
    "\n",
    "# Print classification report for detailed metrics\n",
    "print(classification_report(y_test, y_pred))\n"
   ]
  },
  {
   "cell_type": "markdown",
   "metadata": {},
   "source": [
    "# Multilabel Classification"
   ]
  },
  {
   "cell_type": "code",
   "execution_count": 18,
   "metadata": {},
   "outputs": [],
   "source": [
    "# Encode the binary labels\n",
    "label_encoder = LabelEncoder()\n",
    "data['real_or_fake_general'] = label_encoder.fit_transform(data['real_or_fake'])\n",
    "\n",
    "# Prepare feature matrix and target vector\n",
    "X = data[x_cols]\n",
    "y = data['real_or_fake_general']"
   ]
  },
  {
   "cell_type": "code",
   "execution_count": 19,
   "metadata": {},
   "outputs": [
    {
     "data": {
      "text/plain": [
       "0         6\n",
       "1         3\n",
       "2         2\n",
       "3         5\n",
       "4         1\n",
       "         ..\n",
       "272423    3\n",
       "272424    0\n",
       "272425    4\n",
       "272426    1\n",
       "272427    5\n",
       "Name: real_or_fake_general, Length: 272428, dtype: int64"
      ]
     },
     "execution_count": 19,
     "metadata": {},
     "output_type": "execute_result"
    }
   ],
   "source": [
    "y"
   ]
  },
  {
   "cell_type": "code",
   "execution_count": 20,
   "metadata": {},
   "outputs": [
    {
     "data": {
      "text/plain": [
       "0         6\n",
       "1         3\n",
       "2         2\n",
       "3         5\n",
       "4         1\n",
       "         ..\n",
       "272423    3\n",
       "272424    0\n",
       "272425    4\n",
       "272426    1\n",
       "272427    5\n",
       "Name: real_or_fake_general, Length: 272428, dtype: int64"
      ]
     },
     "execution_count": 20,
     "metadata": {},
     "output_type": "execute_result"
    }
   ],
   "source": [
    "data['real_or_fake_general']"
   ]
  },
  {
   "cell_type": "code",
   "execution_count": 21,
   "metadata": {},
   "outputs": [],
   "source": [
    "# Handle missing values in X\n",
    "imputer = SimpleImputer(strategy='mean')\n",
    "X_imputed = imputer.fit_transform(X)"
   ]
  },
  {
   "cell_type": "code",
   "execution_count": 22,
   "metadata": {},
   "outputs": [],
   "source": [
    "# Assuming X and y are already defined and preprocessed\n",
    "# Split data into training and testing sets\n",
    "X_train, X_test, y_train, y_test = train_test_split(X_imputed, y, test_size=0.2, random_state=42)"
   ]
  },
  {
   "cell_type": "code",
   "execution_count": 23,
   "metadata": {},
   "outputs": [],
   "source": [
    "# Optionally, scale the features\n",
    "scaler = StandardScaler()\n",
    "X_train_scaled = scaler.fit_transform(X_train)\n",
    "X_test_scaled = scaler.transform(X_test)"
   ]
  },
  {
   "cell_type": "code",
   "execution_count": 24,
   "metadata": {},
   "outputs": [
    {
     "name": "stdout",
     "output_type": "stream",
     "text": [
      "Accuracy: 0.77\n",
      "              precision    recall  f1-score   support\n",
      "\n",
      "           0       0.95      0.95      0.95      7075\n",
      "           1       0.94      0.95      0.94      7091\n",
      "           2       0.49      0.34      0.40      7110\n",
      "           3       0.98      0.98      0.98      6961\n",
      "           4       0.79      0.81      0.80      7061\n",
      "           5       0.48      0.63      0.55      6954\n",
      "           6       0.79      0.77      0.78      7589\n",
      "           7       0.72      0.73      0.73       652\n",
      "           8       0.47      0.41      0.44       695\n",
      "           9       0.48      0.44      0.46       638\n",
      "          10       0.83      0.85      0.84       656\n",
      "          11       0.64      0.66      0.65       651\n",
      "          12       0.74      0.80      0.77       683\n",
      "          13       0.67      0.69      0.68       670\n",
      "\n",
      "    accuracy                           0.77     54486\n",
      "   macro avg       0.71      0.71      0.71     54486\n",
      "weighted avg       0.76      0.77      0.76     54486\n",
      "\n"
     ]
    },
    {
     "name": "stderr",
     "output_type": "stream",
     "text": [
      "/Library/Frameworks/Python.framework/Versions/3.11/lib/python3.11/site-packages/sklearn/linear_model/_logistic.py:469: ConvergenceWarning: lbfgs failed to converge (status=1):\n",
      "STOP: TOTAL NO. of ITERATIONS REACHED LIMIT.\n",
      "\n",
      "Increase the number of iterations (max_iter) or scale the data as shown in:\n",
      "    https://scikit-learn.org/stable/modules/preprocessing.html\n",
      "Please also refer to the documentation for alternative solver options:\n",
      "    https://scikit-learn.org/stable/modules/linear_model.html#logistic-regression\n",
      "  n_iter_i = _check_optimize_result(\n"
     ]
    }
   ],
   "source": [
    "# Instantiate logistic regression model\n",
    "logreg = LogisticRegression(max_iter=1000)  # Increase max_iter if needed for convergence\n",
    "\n",
    "# Fit the model\n",
    "logreg.fit(X_train_scaled, y_train)\n",
    "\n",
    "# Predict on test set\n",
    "y_pred = logreg.predict(X_test_scaled)\n",
    "\n",
    "# Evaluate the model\n",
    "accuracy = accuracy_score(y_test, y_pred)\n",
    "print(f\"Accuracy: {accuracy:.2f}\")\n",
    "\n",
    "# Print classification report for detailed metrics\n",
    "print(classification_report(y_test, y_pred))\n"
   ]
  }
 ],
 "metadata": {
  "kernelspec": {
   "display_name": "Python 3",
   "language": "python",
   "name": "python3"
  },
  "language_info": {
   "codemirror_mode": {
    "name": "ipython",
    "version": 3
   },
   "file_extension": ".py",
   "mimetype": "text/x-python",
   "name": "python",
   "nbconvert_exporter": "python",
   "pygments_lexer": "ipython3",
   "version": "3.11.9"
  }
 },
 "nbformat": 4,
 "nbformat_minor": 2
}

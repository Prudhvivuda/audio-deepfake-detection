{
  "cells": [
    {
      "cell_type": "code",
      "execution_count": 32,
      "metadata": {
        "id": "yLsI5C3m3La7"
      },
      "outputs": [
        {
          "name": "stdout",
          "output_type": "stream",
          "text": [
            "Collecting scikeras\n",
            "  Downloading scikeras-0.13.0-py3-none-any.whl.metadata (3.1 kB)\n",
            "Requirement already satisfied: keras>=3.2.0 in /Library/Frameworks/Python.framework/Versions/3.11/lib/python3.11/site-packages (from scikeras) (3.4.1)\n",
            "Requirement already satisfied: scikit-learn>=1.4.2 in /Library/Frameworks/Python.framework/Versions/3.11/lib/python3.11/site-packages (from scikeras) (1.5.0)\n",
            "Requirement already satisfied: absl-py in /Library/Frameworks/Python.framework/Versions/3.11/lib/python3.11/site-packages (from keras>=3.2.0->scikeras) (2.1.0)\n",
            "Requirement already satisfied: numpy in /Library/Frameworks/Python.framework/Versions/3.11/lib/python3.11/site-packages (from keras>=3.2.0->scikeras) (1.26.4)\n",
            "Requirement already satisfied: rich in /Library/Frameworks/Python.framework/Versions/3.11/lib/python3.11/site-packages (from keras>=3.2.0->scikeras) (13.7.1)\n",
            "Requirement already satisfied: namex in /Library/Frameworks/Python.framework/Versions/3.11/lib/python3.11/site-packages (from keras>=3.2.0->scikeras) (0.0.8)\n",
            "Requirement already satisfied: h5py in /Library/Frameworks/Python.framework/Versions/3.11/lib/python3.11/site-packages (from keras>=3.2.0->scikeras) (3.11.0)\n",
            "Requirement already satisfied: optree in /Library/Frameworks/Python.framework/Versions/3.11/lib/python3.11/site-packages (from keras>=3.2.0->scikeras) (0.12.1)\n",
            "Requirement already satisfied: ml-dtypes in /Library/Frameworks/Python.framework/Versions/3.11/lib/python3.11/site-packages (from keras>=3.2.0->scikeras) (0.4.0)\n",
            "Requirement already satisfied: packaging in /Users/pvuda/Library/Python/3.11/lib/python/site-packages (from keras>=3.2.0->scikeras) (24.0)\n",
            "Requirement already satisfied: scipy>=1.6.0 in /Library/Frameworks/Python.framework/Versions/3.11/lib/python3.11/site-packages (from scikit-learn>=1.4.2->scikeras) (1.13.1)\n",
            "Requirement already satisfied: joblib>=1.2.0 in /Library/Frameworks/Python.framework/Versions/3.11/lib/python3.11/site-packages (from scikit-learn>=1.4.2->scikeras) (1.4.2)\n",
            "Requirement already satisfied: threadpoolctl>=3.1.0 in /Library/Frameworks/Python.framework/Versions/3.11/lib/python3.11/site-packages (from scikit-learn>=1.4.2->scikeras) (3.5.0)\n",
            "Requirement already satisfied: typing-extensions>=4.5.0 in /Users/pvuda/Library/Python/3.11/lib/python/site-packages (from optree->keras>=3.2.0->scikeras) (4.12.1)\n",
            "Requirement already satisfied: markdown-it-py>=2.2.0 in /Library/Frameworks/Python.framework/Versions/3.11/lib/python3.11/site-packages (from rich->keras>=3.2.0->scikeras) (3.0.0)\n",
            "Requirement already satisfied: pygments<3.0.0,>=2.13.0 in /Users/pvuda/Library/Python/3.11/lib/python/site-packages (from rich->keras>=3.2.0->scikeras) (2.18.0)\n",
            "Requirement already satisfied: mdurl~=0.1 in /Library/Frameworks/Python.framework/Versions/3.11/lib/python3.11/site-packages (from markdown-it-py>=2.2.0->rich->keras>=3.2.0->scikeras) (0.1.2)\n",
            "Downloading scikeras-0.13.0-py3-none-any.whl (26 kB)\n",
            "Installing collected packages: scikeras\n",
            "Successfully installed scikeras-0.13.0\n",
            "\n",
            "\u001b[1m[\u001b[0m\u001b[34;49mnotice\u001b[0m\u001b[1;39;49m]\u001b[0m\u001b[39;49m A new release of pip is available: \u001b[0m\u001b[31;49m24.0\u001b[0m\u001b[39;49m -> \u001b[0m\u001b[32;49m24.1.2\u001b[0m\n",
            "\u001b[1m[\u001b[0m\u001b[34;49mnotice\u001b[0m\u001b[1;39;49m]\u001b[0m\u001b[39;49m To update, run: \u001b[0m\u001b[32;49mpip3 install --upgrade pip\u001b[0m\n"
          ]
        }
      ],
      "source": [
        "# pip install pandas numpy tensorflow scikit-learn matplotlib tqdm\n",
        "# !pip3 install scikeras"
      ]
    },
    {
      "cell_type": "code",
      "execution_count": 34,
      "metadata": {
        "id": "5Xju5CBt3La8"
      },
      "outputs": [],
      "source": [
        "import pandas as pd\n",
        "import numpy as np\n",
        "from sklearn.model_selection import train_test_split, GridSearchCV, RandomizedSearchCV\n",
        "from sklearn.preprocessing import StandardScaler\n",
        "from sklearn.metrics import accuracy_score, classification_report, confusion_matrix\n",
        "\n",
        "from scikeras.wrappers import KerasClassifier\n",
        "\n",
        "from tensorflow.keras.optimizers import Adam\n",
        "import matplotlib.pyplot as plt\n",
        "from tqdm import tqdm\n",
        "\n",
        "import tensorflow as tf\n",
        "from tensorflow.keras.models import Sequential\n",
        "from tensorflow.keras.layers import Dense, LSTM, Dropout\n",
        "\n",
        "from sklearn.preprocessing import LabelEncoder\n",
        "from tensorflow.keras.utils import to_categorical\n",
        "from keras.layers import SimpleRNN, Dense, Dropout\n",
        "\n",
        "from sklearn.inspection import permutation_importance\n"
      ]
    },
    {
      "cell_type": "code",
      "execution_count": 3,
      "metadata": {
        "colab": {
          "base_uri": "https://localhost:8080/",
          "height": 311
        },
        "id": "AzzvuhFR6C43",
        "outputId": "96f17880-4b91-4b26-fdaf-abb2a2d820f4"
      },
      "outputs": [],
      "source": [
        "# from google.colab import drive\n",
        "# drive.mount('/content/drive')"
      ]
    },
    {
      "cell_type": "code",
      "execution_count": 4,
      "metadata": {
        "id": "v1hbsGsu3La8"
      },
      "outputs": [],
      "source": [
        "# Load the dataset\n",
        "file_path = '/Users/pvuda/Documents/features/combined_file.csv'\n",
        "data = pd.read_csv(file_path)"
      ]
    },
    {
      "cell_type": "code",
      "execution_count": 5,
      "metadata": {
        "id": "gCux9yts3La9"
      },
      "outputs": [
        {
          "data": {
            "text/html": [
              "<div>\n",
              "<style scoped>\n",
              "    .dataframe tbody tr th:only-of-type {\n",
              "        vertical-align: middle;\n",
              "    }\n",
              "\n",
              "    .dataframe tbody tr th {\n",
              "        vertical-align: top;\n",
              "    }\n",
              "\n",
              "    .dataframe thead th {\n",
              "        text-align: right;\n",
              "    }\n",
              "</style>\n",
              "<table border=\"1\" class=\"dataframe\">\n",
              "  <thead>\n",
              "    <tr style=\"text-align: right;\">\n",
              "      <th></th>\n",
              "      <th>audio_id</th>\n",
              "      <th>real_or_fake</th>\n",
              "      <th>spectral_centroid_mean</th>\n",
              "      <th>spectral_centroid_std</th>\n",
              "      <th>spectral_centroid_var</th>\n",
              "      <th>spectral_centroid_min</th>\n",
              "      <th>spectral_centroid_max</th>\n",
              "      <th>spectral_centroid_range</th>\n",
              "      <th>spectral_centroid_25th_percentile</th>\n",
              "      <th>spectral_centroid_50th_percentile</th>\n",
              "      <th>...</th>\n",
              "      <th>shimmer_dda</th>\n",
              "      <th>hnr</th>\n",
              "      <th>voicedcount</th>\n",
              "      <th>npause</th>\n",
              "      <th>originaldur</th>\n",
              "      <th>intensity_duration</th>\n",
              "      <th>speakingrate</th>\n",
              "      <th>articulationrate</th>\n",
              "      <th>asd</th>\n",
              "      <th>totalpauseduration</th>\n",
              "    </tr>\n",
              "  </thead>\n",
              "  <tbody>\n",
              "    <tr>\n",
              "      <th>0</th>\n",
              "      <td>p241_171</td>\n",
              "      <td>F02</td>\n",
              "      <td>1264.074015</td>\n",
              "      <td>822.964906</td>\n",
              "      <td>677271.236891</td>\n",
              "      <td>422.119966</td>\n",
              "      <td>4438.950839</td>\n",
              "      <td>4016.830872</td>\n",
              "      <td>750.791935</td>\n",
              "      <td>1028.198334</td>\n",
              "      <td>...</td>\n",
              "      <td>0.118602</td>\n",
              "      <td>10.488762</td>\n",
              "      <td>13.0</td>\n",
              "      <td>0.0</td>\n",
              "      <td>4.140000</td>\n",
              "      <td>4.140000</td>\n",
              "      <td>3.140097</td>\n",
              "      <td>5.416667</td>\n",
              "      <td>0.184615</td>\n",
              "      <td>1.740000</td>\n",
              "    </tr>\n",
              "    <tr>\n",
              "      <th>1</th>\n",
              "      <td>p241_171</td>\n",
              "      <td>F06</td>\n",
              "      <td>1092.732243</td>\n",
              "      <td>835.096515</td>\n",
              "      <td>697386.189558</td>\n",
              "      <td>299.390288</td>\n",
              "      <td>4276.826478</td>\n",
              "      <td>3977.436190</td>\n",
              "      <td>569.495673</td>\n",
              "      <td>859.165036</td>\n",
              "      <td>...</td>\n",
              "      <td>0.120658</td>\n",
              "      <td>11.283641</td>\n",
              "      <td>14.0</td>\n",
              "      <td>0.0</td>\n",
              "      <td>4.160000</td>\n",
              "      <td>4.160000</td>\n",
              "      <td>3.365385</td>\n",
              "      <td>5.794702</td>\n",
              "      <td>0.172571</td>\n",
              "      <td>1.744000</td>\n",
              "    </tr>\n",
              "    <tr>\n",
              "      <th>2</th>\n",
              "      <td>p241_171</td>\n",
              "      <td>F01</td>\n",
              "      <td>1239.497052</td>\n",
              "      <td>842.612526</td>\n",
              "      <td>709995.868275</td>\n",
              "      <td>288.564361</td>\n",
              "      <td>4151.701698</td>\n",
              "      <td>3863.137337</td>\n",
              "      <td>764.123650</td>\n",
              "      <td>1024.689694</td>\n",
              "      <td>...</td>\n",
              "      <td>0.125836</td>\n",
              "      <td>10.476980</td>\n",
              "      <td>14.0</td>\n",
              "      <td>0.0</td>\n",
              "      <td>3.474125</td>\n",
              "      <td>3.474125</td>\n",
              "      <td>4.029792</td>\n",
              "      <td>5.570892</td>\n",
              "      <td>0.179504</td>\n",
              "      <td>0.961063</td>\n",
              "    </tr>\n",
              "    <tr>\n",
              "      <th>3</th>\n",
              "      <td>p241_171</td>\n",
              "      <td>F05</td>\n",
              "      <td>1218.714047</td>\n",
              "      <td>851.013722</td>\n",
              "      <td>724224.354809</td>\n",
              "      <td>384.025330</td>\n",
              "      <td>4499.744355</td>\n",
              "      <td>4115.719024</td>\n",
              "      <td>723.722157</td>\n",
              "      <td>988.215478</td>\n",
              "      <td>...</td>\n",
              "      <td>0.136116</td>\n",
              "      <td>9.717817</td>\n",
              "      <td>12.0</td>\n",
              "      <td>0.0</td>\n",
              "      <td>4.143750</td>\n",
              "      <td>4.143750</td>\n",
              "      <td>2.895928</td>\n",
              "      <td>5.000000</td>\n",
              "      <td>0.200000</td>\n",
              "      <td>1.743750</td>\n",
              "    </tr>\n",
              "    <tr>\n",
              "      <th>4</th>\n",
              "      <td>p241_171</td>\n",
              "      <td>F04</td>\n",
              "      <td>1090.133359</td>\n",
              "      <td>872.704547</td>\n",
              "      <td>761613.225871</td>\n",
              "      <td>206.065685</td>\n",
              "      <td>4304.859443</td>\n",
              "      <td>4098.793758</td>\n",
              "      <td>531.764632</td>\n",
              "      <td>867.988671</td>\n",
              "      <td>...</td>\n",
              "      <td>0.186246</td>\n",
              "      <td>8.789596</td>\n",
              "      <td>14.0</td>\n",
              "      <td>0.0</td>\n",
              "      <td>4.146667</td>\n",
              "      <td>4.146667</td>\n",
              "      <td>3.376206</td>\n",
              "      <td>5.756579</td>\n",
              "      <td>0.173714</td>\n",
              "      <td>1.714667</td>\n",
              "    </tr>\n",
              "  </tbody>\n",
              "</table>\n",
              "<p>5 rows × 410 columns</p>\n",
              "</div>"
            ],
            "text/plain": [
              "   audio_id real_or_fake  spectral_centroid_mean  spectral_centroid_std  \\\n",
              "0  p241_171          F02             1264.074015             822.964906   \n",
              "1  p241_171          F06             1092.732243             835.096515   \n",
              "2  p241_171          F01             1239.497052             842.612526   \n",
              "3  p241_171          F05             1218.714047             851.013722   \n",
              "4  p241_171          F04             1090.133359             872.704547   \n",
              "\n",
              "   spectral_centroid_var  spectral_centroid_min  spectral_centroid_max  \\\n",
              "0          677271.236891             422.119966            4438.950839   \n",
              "1          697386.189558             299.390288            4276.826478   \n",
              "2          709995.868275             288.564361            4151.701698   \n",
              "3          724224.354809             384.025330            4499.744355   \n",
              "4          761613.225871             206.065685            4304.859443   \n",
              "\n",
              "   spectral_centroid_range  spectral_centroid_25th_percentile  \\\n",
              "0              4016.830872                         750.791935   \n",
              "1              3977.436190                         569.495673   \n",
              "2              3863.137337                         764.123650   \n",
              "3              4115.719024                         723.722157   \n",
              "4              4098.793758                         531.764632   \n",
              "\n",
              "   spectral_centroid_50th_percentile  ...  shimmer_dda        hnr  \\\n",
              "0                        1028.198334  ...     0.118602  10.488762   \n",
              "1                         859.165036  ...     0.120658  11.283641   \n",
              "2                        1024.689694  ...     0.125836  10.476980   \n",
              "3                         988.215478  ...     0.136116   9.717817   \n",
              "4                         867.988671  ...     0.186246   8.789596   \n",
              "\n",
              "   voicedcount  npause  originaldur  intensity_duration  speakingrate  \\\n",
              "0         13.0     0.0     4.140000            4.140000      3.140097   \n",
              "1         14.0     0.0     4.160000            4.160000      3.365385   \n",
              "2         14.0     0.0     3.474125            3.474125      4.029792   \n",
              "3         12.0     0.0     4.143750            4.143750      2.895928   \n",
              "4         14.0     0.0     4.146667            4.146667      3.376206   \n",
              "\n",
              "   articulationrate       asd  totalpauseduration  \n",
              "0          5.416667  0.184615            1.740000  \n",
              "1          5.794702  0.172571            1.744000  \n",
              "2          5.570892  0.179504            0.961063  \n",
              "3          5.000000  0.200000            1.743750  \n",
              "4          5.756579  0.173714            1.714667  \n",
              "\n",
              "[5 rows x 410 columns]"
            ]
          },
          "metadata": {},
          "output_type": "display_data"
        },
        {
          "name": "stdout",
          "output_type": "stream",
          "text": [
            "Features: ['audio_id', 'real_or_fake', 'spectral_centroid_mean', 'spectral_centroid_std', 'spectral_centroid_var', 'spectral_centroid_min', 'spectral_centroid_max', 'spectral_centroid_range', 'spectral_centroid_25th_percentile', 'spectral_centroid_50th_percentile', 'spectral_centroid_75th_percentile', 'spectral_centroid_skew', 'spectral_centroid_kurtosis', 'spectral_bandwidth_mean', 'spectral_bandwidth_std', 'spectral_bandwidth_var', 'spectral_bandwidth_min', 'spectral_bandwidth_max', 'spectral_bandwidth_range', 'spectral_bandwidth_25th_percentile', 'spectral_bandwidth_50th_percentile', 'spectral_bandwidth_75th_percentile', 'spectral_bandwidth_skew', 'spectral_bandwidth_kurtosis', 'spectral_contrast_mean', 'spectral_contrast_std', 'spectral_contrast_var', 'spectral_contrast_min', 'spectral_contrast_max', 'spectral_contrast_range', 'spectral_contrast_25th_percentile', 'spectral_contrast_50th_percentile', 'spectral_contrast_75th_percentile', 'spectral_contrast_skew', 'spectral_contrast_kurtosis', 'spectral_flatness_mean', 'spectral_flatness_std', 'spectral_flatness_var', 'spectral_flatness_min', 'spectral_flatness_max', 'spectral_flatness_range', 'spectral_flatness_25th_percentile', 'spectral_flatness_50th_percentile', 'spectral_flatness_75th_percentile', 'spectral_flatness_skew', 'spectral_flatness_kurtosis', 'spectral_rolloff_mean', 'spectral_rolloff_std', 'spectral_rolloff_var', 'spectral_rolloff_min', 'spectral_rolloff_max', 'spectral_rolloff_range', 'spectral_rolloff_25th_percentile', 'spectral_rolloff_50th_percentile', 'spectral_rolloff_75th_percentile', 'spectral_rolloff_skew', 'spectral_rolloff_kurtosis', 'zero_crossing_rate_mean', 'zero_crossing_rate_std', 'zero_crossing_rate_var', 'zero_crossing_rate_min', 'zero_crossing_rate_max', 'zero_crossing_rate_range', 'zero_crossing_rate_25th_percentile', 'zero_crossing_rate_50th_percentile', 'zero_crossing_rate_75th_percentile', 'zero_crossing_rate_skew', 'zero_crossing_rate_kurtosis', 'spectral_flux_mean', 'spectral_flux_std', 'spectral_flux_var', 'spectral_flux_min', 'spectral_flux_max', 'spectral_flux_range', 'spectral_flux_25th_percentile', 'spectral_flux_50th_percentile', 'spectral_flux_75th_percentile', 'spectral_flux_skew', 'spectral_flux_kurtosis', 'mfcc_1_mean', 'mfcc_1_std', 'mfcc_1_var', 'mfcc_1_min', 'mfcc_1_max', 'mfcc_1_range', 'mfcc_1_25th_percentile', 'mfcc_1_50th_percentile', 'mfcc_1_75th_percentile', 'mfcc_1_skew', 'mfcc_1_kurtosis', 'mfcc_2_mean', 'mfcc_2_std', 'mfcc_2_var', 'mfcc_2_min', 'mfcc_2_max', 'mfcc_2_range', 'mfcc_2_25th_percentile', 'mfcc_2_50th_percentile', 'mfcc_2_75th_percentile', 'mfcc_2_skew', 'mfcc_2_kurtosis', 'mfcc_3_mean', 'mfcc_3_std', 'mfcc_3_var', 'mfcc_3_min', 'mfcc_3_max', 'mfcc_3_range', 'mfcc_3_25th_percentile', 'mfcc_3_50th_percentile', 'mfcc_3_75th_percentile', 'mfcc_3_skew', 'mfcc_3_kurtosis', 'mfcc_4_mean', 'mfcc_4_std', 'mfcc_4_var', 'mfcc_4_min', 'mfcc_4_max', 'mfcc_4_range', 'mfcc_4_25th_percentile', 'mfcc_4_50th_percentile', 'mfcc_4_75th_percentile', 'mfcc_4_skew', 'mfcc_4_kurtosis', 'mfcc_5_mean', 'mfcc_5_std', 'mfcc_5_var', 'mfcc_5_min', 'mfcc_5_max', 'mfcc_5_range', 'mfcc_5_25th_percentile', 'mfcc_5_50th_percentile', 'mfcc_5_75th_percentile', 'mfcc_5_skew', 'mfcc_5_kurtosis', 'mfcc_6_mean', 'mfcc_6_std', 'mfcc_6_var', 'mfcc_6_min', 'mfcc_6_max', 'mfcc_6_range', 'mfcc_6_25th_percentile', 'mfcc_6_50th_percentile', 'mfcc_6_75th_percentile', 'mfcc_6_skew', 'mfcc_6_kurtosis', 'mfcc_7_mean', 'mfcc_7_std', 'mfcc_7_var', 'mfcc_7_min', 'mfcc_7_max', 'mfcc_7_range', 'mfcc_7_25th_percentile', 'mfcc_7_50th_percentile', 'mfcc_7_75th_percentile', 'mfcc_7_skew', 'mfcc_7_kurtosis', 'mfcc_8_mean', 'mfcc_8_std', 'mfcc_8_var', 'mfcc_8_min', 'mfcc_8_max', 'mfcc_8_range', 'mfcc_8_25th_percentile', 'mfcc_8_50th_percentile', 'mfcc_8_75th_percentile', 'mfcc_8_skew', 'mfcc_8_kurtosis', 'mfcc_9_mean', 'mfcc_9_std', 'mfcc_9_var', 'mfcc_9_min', 'mfcc_9_max', 'mfcc_9_range', 'mfcc_9_25th_percentile', 'mfcc_9_50th_percentile', 'mfcc_9_75th_percentile', 'mfcc_9_skew', 'mfcc_9_kurtosis', 'mfcc_10_mean', 'mfcc_10_std', 'mfcc_10_var', 'mfcc_10_min', 'mfcc_10_max', 'mfcc_10_range', 'mfcc_10_25th_percentile', 'mfcc_10_50th_percentile', 'mfcc_10_75th_percentile', 'mfcc_10_skew', 'mfcc_10_kurtosis', 'mfcc_11_mean', 'mfcc_11_std', 'mfcc_11_var', 'mfcc_11_min', 'mfcc_11_max', 'mfcc_11_range', 'mfcc_11_25th_percentile', 'mfcc_11_50th_percentile', 'mfcc_11_75th_percentile', 'mfcc_11_skew', 'mfcc_11_kurtosis', 'mfcc_12_mean', 'mfcc_12_std', 'mfcc_12_var', 'mfcc_12_min', 'mfcc_12_max', 'mfcc_12_range', 'mfcc_12_25th_percentile', 'mfcc_12_50th_percentile', 'mfcc_12_75th_percentile', 'mfcc_12_skew', 'mfcc_12_kurtosis', 'mfcc_13_mean', 'mfcc_13_std', 'mfcc_13_var', 'mfcc_13_min', 'mfcc_13_max', 'mfcc_13_range', 'mfcc_13_25th_percentile', 'mfcc_13_50th_percentile', 'mfcc_13_75th_percentile', 'mfcc_13_skew', 'mfcc_13_kurtosis', 'chroma_1_mean', 'chroma_1_std', 'chroma_1_var', 'chroma_1_min', 'chroma_1_max', 'chroma_1_range', 'chroma_1_25th_percentile', 'chroma_1_50th_percentile', 'chroma_1_75th_percentile', 'chroma_1_skew', 'chroma_1_kurtosis', 'chroma_2_mean', 'chroma_2_std', 'chroma_2_var', 'chroma_2_min', 'chroma_2_max', 'chroma_2_range', 'chroma_2_25th_percentile', 'chroma_2_50th_percentile', 'chroma_2_75th_percentile', 'chroma_2_skew', 'chroma_2_kurtosis', 'chroma_3_mean', 'chroma_3_std', 'chroma_3_var', 'chroma_3_min', 'chroma_3_max', 'chroma_3_range', 'chroma_3_25th_percentile', 'chroma_3_50th_percentile', 'chroma_3_75th_percentile', 'chroma_3_skew', 'chroma_3_kurtosis', 'chroma_4_mean', 'chroma_4_std', 'chroma_4_var', 'chroma_4_min', 'chroma_4_max', 'chroma_4_range', 'chroma_4_25th_percentile', 'chroma_4_50th_percentile', 'chroma_4_75th_percentile', 'chroma_4_skew', 'chroma_4_kurtosis', 'chroma_5_mean', 'chroma_5_std', 'chroma_5_var', 'chroma_5_min', 'chroma_5_max', 'chroma_5_range', 'chroma_5_25th_percentile', 'chroma_5_50th_percentile', 'chroma_5_75th_percentile', 'chroma_5_skew', 'chroma_5_kurtosis', 'chroma_6_mean', 'chroma_6_std', 'chroma_6_var', 'chroma_6_min', 'chroma_6_max', 'chroma_6_range', 'chroma_6_25th_percentile', 'chroma_6_50th_percentile', 'chroma_6_75th_percentile', 'chroma_6_skew', 'chroma_6_kurtosis', 'chroma_7_mean', 'chroma_7_std', 'chroma_7_var', 'chroma_7_min', 'chroma_7_max', 'chroma_7_range', 'chroma_7_25th_percentile', 'chroma_7_50th_percentile', 'chroma_7_75th_percentile', 'chroma_7_skew', 'chroma_7_kurtosis', 'chroma_8_mean', 'chroma_8_std', 'chroma_8_var', 'chroma_8_min', 'chroma_8_max', 'chroma_8_range', 'chroma_8_25th_percentile', 'chroma_8_50th_percentile', 'chroma_8_75th_percentile', 'chroma_8_skew', 'chroma_8_kurtosis', 'chroma_9_mean', 'chroma_9_std', 'chroma_9_var', 'chroma_9_min', 'chroma_9_max', 'chroma_9_range', 'chroma_9_25th_percentile', 'chroma_9_50th_percentile', 'chroma_9_75th_percentile', 'chroma_9_skew', 'chroma_9_kurtosis', 'chroma_10_mean', 'chroma_10_std', 'chroma_10_var', 'chroma_10_min', 'chroma_10_max', 'chroma_10_range', 'chroma_10_25th_percentile', 'chroma_10_50th_percentile', 'chroma_10_75th_percentile', 'chroma_10_skew', 'chroma_10_kurtosis', 'chroma_11_mean', 'chroma_11_std', 'chroma_11_var', 'chroma_11_min', 'chroma_11_max', 'chroma_11_range', 'chroma_11_25th_percentile', 'chroma_11_50th_percentile', 'chroma_11_75th_percentile', 'chroma_11_skew', 'chroma_11_kurtosis', 'chroma_12_mean', 'chroma_12_std', 'chroma_12_var', 'chroma_12_min', 'chroma_12_max', 'chroma_12_range', 'chroma_12_25th_percentile', 'chroma_12_50th_percentile', 'chroma_12_75th_percentile', 'chroma_12_skew', 'chroma_12_kurtosis', 'f0_mean', 'f0_std', 'f0_var', 'f0_min', 'f0_max', 'f0_range', 'f0_25th_percentile', 'f0_50th_percentile', 'f0_75th_percentile', 'f0_skew', 'f0_kurtosis', 'energy_mean', 'energy_std', 'energy_var', 'energy_min', 'energy_max', 'energy_range', 'energy_25th_percentile', 'energy_50th_percentile', 'energy_75th_percentile', 'energy_skew', 'energy_kurtosis', 'speaking_rate', 'pause_mean', 'pause_std', 'pause_var', 'pause_min', 'pause_max', 'pause_range', 'pause_25th_percentile', 'pause_50th_percentile', 'pause_75th_percentile', 'pause_skew', 'pause_kurtosis', 'F1_mean', 'F1_stdev', 'F2_mean', 'F2_stdev', 'F3_mean', 'F3_stdev', 'jitter_local', 'jitter_rap', 'jitter_ppq5', 'shimmer_local', 'shimmer_apq3', 'shimmer_apq5', 'shimmer_dda', 'hnr', 'voicedcount', 'npause', 'originaldur', 'intensity_duration', 'speakingrate', 'articulationrate', 'asd', 'totalpauseduration']\n",
            "Class of real_or_fake: {'WF5', 'F02', 'WF3', 'F05', 'WF7', 'WF2', 'F04', 'WF1', 'F01', 'R', 'WF6', 'F03', 'F06', 'WF4'}\n"
          ]
        }
      ],
      "source": [
        "# Display the first few rows of the dataframe\n",
        "display(data.head())\n",
        "print(\"Features:\", data.columns.to_list())\n",
        "print(\"Class of real_or_fake:\", set(data['real_or_fake']))"
      ]
    },
    {
      "cell_type": "code",
      "execution_count": 6,
      "metadata": {
        "id": "ezVvGgOtphut"
      },
      "outputs": [
        {
          "data": {
            "text/plain": [
              "{'F', 'R'}"
            ]
          },
          "execution_count": 6,
          "metadata": {},
          "output_type": "execute_result"
        }
      ],
      "source": [
        "data['real_or_fake_general'] = data['real_or_fake'].apply(lambda x: 'R' if x.startswith('R') else 'F')\n",
        "set(data['real_or_fake_general'])"
      ]
    },
    {
      "cell_type": "code",
      "execution_count": 7,
      "metadata": {
        "id": "iz3gr7cHqJn6"
      },
      "outputs": [
        {
          "data": {
            "text/plain": [
              "{0, 1}"
            ]
          },
          "execution_count": 7,
          "metadata": {},
          "output_type": "execute_result"
        }
      ],
      "source": [
        "label_encoder = LabelEncoder()\n",
        "data['real_or_fake_general'] = label_encoder.fit_transform(data['real_or_fake_general'])\n",
        "set(data['real_or_fake_general'])"
      ]
    },
    {
      "cell_type": "code",
      "execution_count": 8,
      "metadata": {
        "id": "PaKkjuzR3La9"
      },
      "outputs": [],
      "source": [
        "# # Convert 'real_or_fake' to numerical labels\n",
        "# label_encoder = LabelEncoder()\n",
        "# data['real_or_fake'] = label_encoder.fit_transform(data['real_or_fake'])"
      ]
    },
    {
      "cell_type": "code",
      "execution_count": 9,
      "metadata": {
        "id": "0-M9DFrG3La9"
      },
      "outputs": [],
      "source": [
        "# Define features and target\n",
        "X = data.drop(columns=['audio_id', 'real_or_fake', 'real_or_fake_general'])\n",
        "y = data['real_or_fake_general']"
      ]
    },
    {
      "cell_type": "code",
      "execution_count": 10,
      "metadata": {
        "id": "88DU3wY374am"
      },
      "outputs": [],
      "source": [
        "# Standardize the features\n",
        "scaler = StandardScaler()\n",
        "X_scaled = scaler.fit_transform(X)"
      ]
    },
    {
      "cell_type": "code",
      "execution_count": 11,
      "metadata": {
        "id": "Ntvy4fm33La9"
      },
      "outputs": [],
      "source": [
        "# Split data into training and test sets\n",
        "X_train, X_test, y_train, y_test = train_test_split(X_scaled, y, test_size=0.2, random_state=42)"
      ]
    },
    {
      "cell_type": "code",
      "execution_count": 12,
      "metadata": {
        "id": "C13Q6W208kVJ"
      },
      "outputs": [],
      "source": [
        "X_train_reshaped = X_train.reshape((X_train.shape[0], X_train.shape[1], 1))\n",
        "X_test_reshaped = X_test.reshape((X_test.shape[0], X_test.shape[1], 1))"
      ]
    },
    {
      "cell_type": "markdown",
      "metadata": {},
      "source": [
        "## SimpleRNN"
      ]
    },
    {
      "cell_type": "code",
      "execution_count": 13,
      "metadata": {
        "id": "8vGXIerG3La-"
      },
      "outputs": [
        {
          "name": "stderr",
          "output_type": "stream",
          "text": [
            "/Library/Frameworks/Python.framework/Versions/3.11/lib/python3.11/site-packages/keras/src/layers/rnn/rnn.py:204: UserWarning: Do not pass an `input_shape`/`input_dim` argument to a layer. When using Sequential models, prefer using an `Input(shape)` object as the first layer in the model instead.\n",
            "  super().__init__(**kwargs)\n"
          ]
        }
      ],
      "source": [
        "# Build the RNN model\n",
        "model = Sequential()\n",
        "model.add(SimpleRNN(64, input_shape=(X_train_reshaped.shape[1], 1)))\n",
        "model.add(Dropout(0.2))\n",
        "model.add(Dense(len(np.unique(y)), activation='softmax'))\n",
        "\n",
        "# Compile the model\n",
        "model.compile(loss='sparse_categorical_crossentropy', optimizer='adam', metrics=['accuracy'])"
      ]
    },
    {
      "cell_type": "code",
      "execution_count": 14,
      "metadata": {
        "id": "NBa--lsW3La-"
      },
      "outputs": [
        {
          "name": "stdout",
          "output_type": "stream",
          "text": [
            "Epoch 1/20\n",
            "\u001b[1m6787/6787\u001b[0m \u001b[32m━━━━━━━━━━━━━━━━━━━━\u001b[0m\u001b[37m\u001b[0m \u001b[1m159s\u001b[0m 23ms/step - accuracy: 0.8587 - loss: nan - val_accuracy: 0.8596 - val_loss: nan\n",
            "Epoch 2/20\n",
            "\u001b[1m6787/6787\u001b[0m \u001b[32m━━━━━━━━━━━━━━━━━━━━\u001b[0m\u001b[37m\u001b[0m \u001b[1m158s\u001b[0m 23ms/step - accuracy: 0.8593 - loss: nan - val_accuracy: 0.8596 - val_loss: nan\n",
            "Epoch 3/20\n",
            "\u001b[1m6787/6787\u001b[0m \u001b[32m━━━━━━━━━━━━━━━━━━━━\u001b[0m\u001b[37m\u001b[0m \u001b[1m159s\u001b[0m 23ms/step - accuracy: 0.8578 - loss: nan - val_accuracy: 0.8596 - val_loss: nan\n",
            "Epoch 4/20\n",
            "\u001b[1m6787/6787\u001b[0m \u001b[32m━━━━━━━━━━━━━━━━━━━━\u001b[0m\u001b[37m\u001b[0m \u001b[1m159s\u001b[0m 23ms/step - accuracy: 0.8595 - loss: nan - val_accuracy: 0.8596 - val_loss: nan\n",
            "Epoch 5/20\n",
            "\u001b[1m6787/6787\u001b[0m \u001b[32m━━━━━━━━━━━━━━━━━━━━\u001b[0m\u001b[37m\u001b[0m \u001b[1m159s\u001b[0m 23ms/step - accuracy: 0.8595 - loss: nan - val_accuracy: 0.8596 - val_loss: nan\n",
            "Epoch 6/20\n",
            "\u001b[1m6787/6787\u001b[0m \u001b[32m━━━━━━━━━━━━━━━━━━━━\u001b[0m\u001b[37m\u001b[0m \u001b[1m159s\u001b[0m 23ms/step - accuracy: 0.8586 - loss: nan - val_accuracy: 0.8596 - val_loss: nan\n",
            "Epoch 7/20\n",
            "\u001b[1m6787/6787\u001b[0m \u001b[32m━━━━━━━━━━━━━━━━━━━━\u001b[0m\u001b[37m\u001b[0m \u001b[1m158s\u001b[0m 23ms/step - accuracy: 0.8586 - loss: nan - val_accuracy: 0.8596 - val_loss: nan\n",
            "Epoch 8/20\n",
            "\u001b[1m6787/6787\u001b[0m \u001b[32m━━━━━━━━━━━━━━━━━━━━\u001b[0m\u001b[37m\u001b[0m \u001b[1m159s\u001b[0m 23ms/step - accuracy: 0.8586 - loss: nan - val_accuracy: 0.8596 - val_loss: nan\n",
            "Epoch 9/20\n",
            "\u001b[1m6787/6787\u001b[0m \u001b[32m━━━━━━━━━━━━━━━━━━━━\u001b[0m\u001b[37m\u001b[0m \u001b[1m159s\u001b[0m 23ms/step - accuracy: 0.8591 - loss: nan - val_accuracy: 0.8596 - val_loss: nan\n",
            "Epoch 10/20\n",
            "\u001b[1m6787/6787\u001b[0m \u001b[32m━━━━━━━━━━━━━━━━━━━━\u001b[0m\u001b[37m\u001b[0m \u001b[1m160s\u001b[0m 24ms/step - accuracy: 0.8588 - loss: nan - val_accuracy: 0.8596 - val_loss: nan\n",
            "Epoch 11/20\n",
            "\u001b[1m6787/6787\u001b[0m \u001b[32m━━━━━━━━━━━━━━━━━━━━\u001b[0m\u001b[37m\u001b[0m \u001b[1m160s\u001b[0m 24ms/step - accuracy: 0.8594 - loss: nan - val_accuracy: 0.8596 - val_loss: nan\n",
            "Epoch 12/20\n",
            "\u001b[1m6787/6787\u001b[0m \u001b[32m━━━━━━━━━━━━━━━━━━━━\u001b[0m\u001b[37m\u001b[0m \u001b[1m160s\u001b[0m 24ms/step - accuracy: 0.8599 - loss: nan - val_accuracy: 0.8596 - val_loss: nan\n",
            "Epoch 13/20\n",
            "\u001b[1m6787/6787\u001b[0m \u001b[32m━━━━━━━━━━━━━━━━━━━━\u001b[0m\u001b[37m\u001b[0m \u001b[1m161s\u001b[0m 24ms/step - accuracy: 0.8582 - loss: nan - val_accuracy: 0.8596 - val_loss: nan\n",
            "Epoch 14/20\n",
            "\u001b[1m6787/6787\u001b[0m \u001b[32m━━━━━━━━━━━━━━━━━━━━\u001b[0m\u001b[37m\u001b[0m \u001b[1m160s\u001b[0m 24ms/step - accuracy: 0.8578 - loss: nan - val_accuracy: 0.8596 - val_loss: nan\n",
            "Epoch 15/20\n",
            "\u001b[1m6787/6787\u001b[0m \u001b[32m━━━━━━━━━━━━━━━━━━━━\u001b[0m\u001b[37m\u001b[0m \u001b[1m162s\u001b[0m 24ms/step - accuracy: 0.8604 - loss: nan - val_accuracy: 0.8596 - val_loss: nan\n",
            "Epoch 16/20\n",
            "\u001b[1m6787/6787\u001b[0m \u001b[32m━━━━━━━━━━━━━━━━━━━━\u001b[0m\u001b[37m\u001b[0m \u001b[1m164s\u001b[0m 24ms/step - accuracy: 0.8585 - loss: nan - val_accuracy: 0.8596 - val_loss: nan\n",
            "Epoch 17/20\n",
            "\u001b[1m6787/6787\u001b[0m \u001b[32m━━━━━━━━━━━━━━━━━━━━\u001b[0m\u001b[37m\u001b[0m \u001b[1m170s\u001b[0m 25ms/step - accuracy: 0.8588 - loss: nan - val_accuracy: 0.8596 - val_loss: nan\n",
            "Epoch 18/20\n",
            "\u001b[1m6787/6787\u001b[0m \u001b[32m━━━━━━━━━━━━━━━━━━━━\u001b[0m\u001b[37m\u001b[0m \u001b[1m165s\u001b[0m 24ms/step - accuracy: 0.8577 - loss: nan - val_accuracy: 0.8596 - val_loss: nan\n",
            "Epoch 19/20\n",
            "\u001b[1m6787/6787\u001b[0m \u001b[32m━━━━━━━━━━━━━━━━━━━━\u001b[0m\u001b[37m\u001b[0m \u001b[1m164s\u001b[0m 24ms/step - accuracy: 0.8586 - loss: nan - val_accuracy: 0.8596 - val_loss: nan\n",
            "Epoch 20/20\n",
            "\u001b[1m6787/6787\u001b[0m \u001b[32m━━━━━━━━━━━━━━━━━━━━\u001b[0m\u001b[37m\u001b[0m \u001b[1m165s\u001b[0m 24ms/step - accuracy: 0.8578 - loss: nan - val_accuracy: 0.8596 - val_loss: nan\n"
          ]
        }
      ],
      "source": [
        "history = model.fit(X_train_reshaped, y_train, validation_data=(X_test_reshaped, y_test), epochs=20, batch_size=32, verbose=1)"
      ]
    },
    {
      "cell_type": "code",
      "execution_count": 27,
      "metadata": {},
      "outputs": [
        {
          "name": "stdout",
          "output_type": "stream",
          "text": [
            "\u001b[1m1697/1697\u001b[0m \u001b[32m━━━━━━━━━━━━━━━━━━━━\u001b[0m\u001b[37m\u001b[0m \u001b[1m12s\u001b[0m 7ms/step\n",
            "Neural Network Accuracy:  0.8595634957178377\n",
            "              precision    recall  f1-score   support\n",
            "\n",
            "           F       0.86      1.00      0.92     46670\n",
            "           R       0.00      0.00      0.00      7625\n",
            "\n",
            "    accuracy                           0.86     54295\n",
            "   macro avg       0.43      0.50      0.46     54295\n",
            "weighted avg       0.74      0.86      0.79     54295\n",
            "\n"
          ]
        },
        {
          "name": "stderr",
          "output_type": "stream",
          "text": [
            "/Library/Frameworks/Python.framework/Versions/3.11/lib/python3.11/site-packages/sklearn/metrics/_classification.py:1517: UndefinedMetricWarning: Precision is ill-defined and being set to 0.0 in labels with no predicted samples. Use `zero_division` parameter to control this behavior.\n",
            "  _warn_prf(average, modifier, f\"{metric.capitalize()} is\", len(result))\n",
            "/Library/Frameworks/Python.framework/Versions/3.11/lib/python3.11/site-packages/sklearn/metrics/_classification.py:1517: UndefinedMetricWarning: Precision is ill-defined and being set to 0.0 in labels with no predicted samples. Use `zero_division` parameter to control this behavior.\n",
            "  _warn_prf(average, modifier, f\"{metric.capitalize()} is\", len(result))\n",
            "/Library/Frameworks/Python.framework/Versions/3.11/lib/python3.11/site-packages/sklearn/metrics/_classification.py:1517: UndefinedMetricWarning: Precision is ill-defined and being set to 0.0 in labels with no predicted samples. Use `zero_division` parameter to control this behavior.\n",
            "  _warn_prf(average, modifier, f\"{metric.capitalize()} is\", len(result))\n"
          ]
        }
      ],
      "source": [
        "# Make predictions\n",
        "nn_predictions_prob = model.predict(X_test)\n",
        "nn_predictions = np.argmax(nn_predictions_prob, axis=1)  # Get the index of the highest probability\n",
        "\n",
        "# Evaluate the model\n",
        "accuracy = accuracy_score(y_test, nn_predictions)\n",
        "print(\"Neural Network Accuracy: \", accuracy)\n",
        "print(classification_report(y_test, nn_predictions, target_names=label_encoder.classes_))\n"
      ]
    },
    {
      "cell_type": "code",
      "execution_count": 37,
      "metadata": {},
      "outputs": [],
      "source": [
        "def custom_scorer(estimator, X, y):\n",
        "    X_reshaped = X.reshape((X.shape[0], X.shape[1], 1))\n",
        "    predictions = estimator.predict(X_reshaped)\n",
        "    predictions = (predictions > 0.5).astype(int)\n",
        "    return accuracy_score(y, predictions)"
      ]
    },
    {
      "cell_type": "code",
      "execution_count": 38,
      "metadata": {},
      "outputs": [
        {
          "ename": "ValueError",
          "evalue": "Exception encountered when calling Sequential.call().\n\n\u001b[1mCannot take the length of shape with unknown rank.\u001b[0m\n\nArguments received by Sequential.call():\n  • inputs=tf.Tensor(shape=<unknown>, dtype=float32)\n  • training=False\n  • mask=None",
          "output_type": "error",
          "traceback": [
            "\u001b[0;31m---------------------------------------------------------------------------\u001b[0m",
            "\u001b[0;31mValueError\u001b[0m                                Traceback (most recent call last)",
            "Cell \u001b[0;32mIn[38], line 1\u001b[0m\n\u001b[0;32m----> 1\u001b[0m result \u001b[38;5;241m=\u001b[39m \u001b[43mpermutation_importance\u001b[49m\u001b[43m(\u001b[49m\u001b[43mmodel\u001b[49m\u001b[43m,\u001b[49m\u001b[43m \u001b[49m\u001b[43mX_test\u001b[49m\u001b[43m,\u001b[49m\u001b[43m \u001b[49m\u001b[43my_test\u001b[49m\u001b[43m,\u001b[49m\u001b[43m \u001b[49m\u001b[43mn_repeats\u001b[49m\u001b[38;5;241;43m=\u001b[39;49m\u001b[38;5;241;43m10\u001b[39;49m\u001b[43m,\u001b[49m\u001b[43m \u001b[49m\u001b[43mrandom_state\u001b[49m\u001b[38;5;241;43m=\u001b[39;49m\u001b[38;5;241;43m42\u001b[39;49m\u001b[43m,\u001b[49m\u001b[43m \u001b[49m\u001b[43mscoring\u001b[49m\u001b[38;5;241;43m=\u001b[39;49m\u001b[43mcustom_scorer\u001b[49m\u001b[43m)\u001b[49m\n",
            "File \u001b[0;32m/Library/Frameworks/Python.framework/Versions/3.11/lib/python3.11/site-packages/sklearn/utils/_param_validation.py:213\u001b[0m, in \u001b[0;36mvalidate_params.<locals>.decorator.<locals>.wrapper\u001b[0;34m(*args, **kwargs)\u001b[0m\n\u001b[1;32m    207\u001b[0m \u001b[38;5;28;01mtry\u001b[39;00m:\n\u001b[1;32m    208\u001b[0m     \u001b[38;5;28;01mwith\u001b[39;00m config_context(\n\u001b[1;32m    209\u001b[0m         skip_parameter_validation\u001b[38;5;241m=\u001b[39m(\n\u001b[1;32m    210\u001b[0m             prefer_skip_nested_validation \u001b[38;5;129;01mor\u001b[39;00m global_skip_validation\n\u001b[1;32m    211\u001b[0m         )\n\u001b[1;32m    212\u001b[0m     ):\n\u001b[0;32m--> 213\u001b[0m         \u001b[38;5;28;01mreturn\u001b[39;00m \u001b[43mfunc\u001b[49m\u001b[43m(\u001b[49m\u001b[38;5;241;43m*\u001b[39;49m\u001b[43margs\u001b[49m\u001b[43m,\u001b[49m\u001b[43m \u001b[49m\u001b[38;5;241;43m*\u001b[39;49m\u001b[38;5;241;43m*\u001b[39;49m\u001b[43mkwargs\u001b[49m\u001b[43m)\u001b[49m\n\u001b[1;32m    214\u001b[0m \u001b[38;5;28;01mexcept\u001b[39;00m InvalidParameterError \u001b[38;5;28;01mas\u001b[39;00m e:\n\u001b[1;32m    215\u001b[0m     \u001b[38;5;66;03m# When the function is just a wrapper around an estimator, we allow\u001b[39;00m\n\u001b[1;32m    216\u001b[0m     \u001b[38;5;66;03m# the function to delegate validation to the estimator, but we replace\u001b[39;00m\n\u001b[1;32m    217\u001b[0m     \u001b[38;5;66;03m# the name of the estimator by the name of the function in the error\u001b[39;00m\n\u001b[1;32m    218\u001b[0m     \u001b[38;5;66;03m# message to avoid confusion.\u001b[39;00m\n\u001b[1;32m    219\u001b[0m     msg \u001b[38;5;241m=\u001b[39m re\u001b[38;5;241m.\u001b[39msub(\n\u001b[1;32m    220\u001b[0m         \u001b[38;5;124mr\u001b[39m\u001b[38;5;124m\"\u001b[39m\u001b[38;5;124mparameter of \u001b[39m\u001b[38;5;124m\\\u001b[39m\u001b[38;5;124mw+ must be\u001b[39m\u001b[38;5;124m\"\u001b[39m,\n\u001b[1;32m    221\u001b[0m         \u001b[38;5;124mf\u001b[39m\u001b[38;5;124m\"\u001b[39m\u001b[38;5;124mparameter of \u001b[39m\u001b[38;5;132;01m{\u001b[39;00mfunc\u001b[38;5;241m.\u001b[39m\u001b[38;5;18m__qualname__\u001b[39m\u001b[38;5;132;01m}\u001b[39;00m\u001b[38;5;124m must be\u001b[39m\u001b[38;5;124m\"\u001b[39m,\n\u001b[1;32m    222\u001b[0m         \u001b[38;5;28mstr\u001b[39m(e),\n\u001b[1;32m    223\u001b[0m     )\n",
            "File \u001b[0;32m/Library/Frameworks/Python.framework/Versions/3.11/lib/python3.11/site-packages/sklearn/inspection/_permutation_importance.py:282\u001b[0m, in \u001b[0;36mpermutation_importance\u001b[0;34m(estimator, X, y, scoring, n_repeats, n_jobs, random_state, sample_weight, max_samples)\u001b[0m\n\u001b[1;32m    279\u001b[0m     \u001b[38;5;28;01mraise\u001b[39;00m \u001b[38;5;167;01mValueError\u001b[39;00m(\u001b[38;5;124m\"\u001b[39m\u001b[38;5;124mmax_samples must be <= n_samples\u001b[39m\u001b[38;5;124m\"\u001b[39m)\n\u001b[1;32m    281\u001b[0m scorer \u001b[38;5;241m=\u001b[39m check_scoring(estimator, scoring\u001b[38;5;241m=\u001b[39mscoring)\n\u001b[0;32m--> 282\u001b[0m baseline_score \u001b[38;5;241m=\u001b[39m \u001b[43m_weights_scorer\u001b[49m\u001b[43m(\u001b[49m\u001b[43mscorer\u001b[49m\u001b[43m,\u001b[49m\u001b[43m \u001b[49m\u001b[43mestimator\u001b[49m\u001b[43m,\u001b[49m\u001b[43m \u001b[49m\u001b[43mX\u001b[49m\u001b[43m,\u001b[49m\u001b[43m \u001b[49m\u001b[43my\u001b[49m\u001b[43m,\u001b[49m\u001b[43m \u001b[49m\u001b[43msample_weight\u001b[49m\u001b[43m)\u001b[49m\n\u001b[1;32m    284\u001b[0m scores \u001b[38;5;241m=\u001b[39m Parallel(n_jobs\u001b[38;5;241m=\u001b[39mn_jobs)(\n\u001b[1;32m    285\u001b[0m     delayed(_calculate_permutation_scores)(\n\u001b[1;32m    286\u001b[0m         estimator,\n\u001b[0;32m   (...)\u001b[0m\n\u001b[1;32m    296\u001b[0m     \u001b[38;5;28;01mfor\u001b[39;00m col_idx \u001b[38;5;129;01min\u001b[39;00m \u001b[38;5;28mrange\u001b[39m(X\u001b[38;5;241m.\u001b[39mshape[\u001b[38;5;241m1\u001b[39m])\n\u001b[1;32m    297\u001b[0m )\n\u001b[1;32m    299\u001b[0m \u001b[38;5;28;01mif\u001b[39;00m \u001b[38;5;28misinstance\u001b[39m(baseline_score, \u001b[38;5;28mdict\u001b[39m):\n",
            "File \u001b[0;32m/Library/Frameworks/Python.framework/Versions/3.11/lib/python3.11/site-packages/sklearn/inspection/_permutation_importance.py:25\u001b[0m, in \u001b[0;36m_weights_scorer\u001b[0;34m(scorer, estimator, X, y, sample_weight)\u001b[0m\n\u001b[1;32m     23\u001b[0m \u001b[38;5;28;01mif\u001b[39;00m sample_weight \u001b[38;5;129;01mis\u001b[39;00m \u001b[38;5;129;01mnot\u001b[39;00m \u001b[38;5;28;01mNone\u001b[39;00m:\n\u001b[1;32m     24\u001b[0m     \u001b[38;5;28;01mreturn\u001b[39;00m scorer(estimator, X, y, sample_weight\u001b[38;5;241m=\u001b[39msample_weight)\n\u001b[0;32m---> 25\u001b[0m \u001b[38;5;28;01mreturn\u001b[39;00m \u001b[43mscorer\u001b[49m\u001b[43m(\u001b[49m\u001b[43mestimator\u001b[49m\u001b[43m,\u001b[49m\u001b[43m \u001b[49m\u001b[43mX\u001b[49m\u001b[43m,\u001b[49m\u001b[43m \u001b[49m\u001b[43my\u001b[49m\u001b[43m)\u001b[49m\n",
            "Cell \u001b[0;32mIn[37], line 3\u001b[0m, in \u001b[0;36mcustom_scorer\u001b[0;34m(estimator, X, y)\u001b[0m\n\u001b[1;32m      1\u001b[0m \u001b[38;5;28;01mdef\u001b[39;00m \u001b[38;5;21mcustom_scorer\u001b[39m(estimator, X, y):\n\u001b[1;32m      2\u001b[0m     X_reshaped \u001b[38;5;241m=\u001b[39m X\u001b[38;5;241m.\u001b[39mreshape((X\u001b[38;5;241m.\u001b[39mshape[\u001b[38;5;241m0\u001b[39m], X\u001b[38;5;241m.\u001b[39mshape[\u001b[38;5;241m1\u001b[39m], \u001b[38;5;241m1\u001b[39m))\n\u001b[0;32m----> 3\u001b[0m     predictions \u001b[38;5;241m=\u001b[39m \u001b[43mestimator\u001b[49m\u001b[38;5;241;43m.\u001b[39;49m\u001b[43mpredict\u001b[49m\u001b[43m(\u001b[49m\u001b[43mX_reshaped\u001b[49m\u001b[43m)\u001b[49m\n\u001b[1;32m      4\u001b[0m     predictions \u001b[38;5;241m=\u001b[39m (predictions \u001b[38;5;241m>\u001b[39m \u001b[38;5;241m0.5\u001b[39m)\u001b[38;5;241m.\u001b[39mastype(\u001b[38;5;28mint\u001b[39m)\n\u001b[1;32m      5\u001b[0m     \u001b[38;5;28;01mreturn\u001b[39;00m accuracy_score(y, predictions)\n",
            "File \u001b[0;32m/Library/Frameworks/Python.framework/Versions/3.11/lib/python3.11/site-packages/keras/src/utils/traceback_utils.py:122\u001b[0m, in \u001b[0;36mfilter_traceback.<locals>.error_handler\u001b[0;34m(*args, **kwargs)\u001b[0m\n\u001b[1;32m    119\u001b[0m     filtered_tb \u001b[38;5;241m=\u001b[39m _process_traceback_frames(e\u001b[38;5;241m.\u001b[39m__traceback__)\n\u001b[1;32m    120\u001b[0m     \u001b[38;5;66;03m# To get the full stack trace, call:\u001b[39;00m\n\u001b[1;32m    121\u001b[0m     \u001b[38;5;66;03m# `keras.config.disable_traceback_filtering()`\u001b[39;00m\n\u001b[0;32m--> 122\u001b[0m     \u001b[38;5;28;01mraise\u001b[39;00m e\u001b[38;5;241m.\u001b[39mwith_traceback(filtered_tb) \u001b[38;5;28;01mfrom\u001b[39;00m \u001b[38;5;28;01mNone\u001b[39;00m\n\u001b[1;32m    123\u001b[0m \u001b[38;5;28;01mfinally\u001b[39;00m:\n\u001b[1;32m    124\u001b[0m     \u001b[38;5;28;01mdel\u001b[39;00m filtered_tb\n",
            "File \u001b[0;32m/Library/Frameworks/Python.framework/Versions/3.11/lib/python3.11/site-packages/keras/src/utils/traceback_utils.py:122\u001b[0m, in \u001b[0;36mfilter_traceback.<locals>.error_handler\u001b[0;34m(*args, **kwargs)\u001b[0m\n\u001b[1;32m    119\u001b[0m     filtered_tb \u001b[38;5;241m=\u001b[39m _process_traceback_frames(e\u001b[38;5;241m.\u001b[39m__traceback__)\n\u001b[1;32m    120\u001b[0m     \u001b[38;5;66;03m# To get the full stack trace, call:\u001b[39;00m\n\u001b[1;32m    121\u001b[0m     \u001b[38;5;66;03m# `keras.config.disable_traceback_filtering()`\u001b[39;00m\n\u001b[0;32m--> 122\u001b[0m     \u001b[38;5;28;01mraise\u001b[39;00m e\u001b[38;5;241m.\u001b[39mwith_traceback(filtered_tb) \u001b[38;5;28;01mfrom\u001b[39;00m \u001b[38;5;28;01mNone\u001b[39;00m\n\u001b[1;32m    123\u001b[0m \u001b[38;5;28;01mfinally\u001b[39;00m:\n\u001b[1;32m    124\u001b[0m     \u001b[38;5;28;01mdel\u001b[39;00m filtered_tb\n",
            "\u001b[0;31mValueError\u001b[0m: Exception encountered when calling Sequential.call().\n\n\u001b[1mCannot take the length of shape with unknown rank.\u001b[0m\n\nArguments received by Sequential.call():\n  • inputs=tf.Tensor(shape=<unknown>, dtype=float32)\n  • training=False\n  • mask=None"
          ]
        }
      ],
      "source": [
        "result = permutation_importance(model, X_test, y_test, n_repeats=10, random_state=42, scoring=custom_scorer)\n"
      ]
    },
    {
      "cell_type": "code",
      "execution_count": null,
      "metadata": {},
      "outputs": [],
      "source": [
        "# Get feature importances\n",
        "importance_df = pd.DataFrame({'Feature': X.columns, 'Importance': result.importances_mean})\n",
        "importance_df = importance_df.sort_values(by='Importance', ascending=False)"
      ]
    },
    {
      "cell_type": "code",
      "execution_count": 15,
      "metadata": {
        "id": "xwmrbkEk3La-"
      },
      "outputs": [
        {
          "name": "stdout",
          "output_type": "stream",
          "text": [
            "\u001b[1m1697/1697\u001b[0m \u001b[32m━━━━━━━━━━━━━━━━━━━━\u001b[0m\u001b[37m\u001b[0m \u001b[1m13s\u001b[0m 7ms/step - accuracy: 0.8607 - loss: nan\n",
            "Test Accuracy: 85.96%\n"
          ]
        },
        {
          "data": {
            "image/png": "[encoded data removed]",
            "text/plain": [
              "<Figure size 1200x400 with 2 Axes>"
            ]
          },
          "metadata": {},
          "output_type": "display_data"
        }
      ],
      "source": [
        "# Evaluate the model\n",
        "loss, accuracy = model.evaluate(X_test_reshaped, y_test)\n",
        "print(f'Test Accuracy: {accuracy * 100:.2f}%')\n",
        "\n",
        "# Plot training & validation accuracy values\n",
        "plt.figure(figsize=(12, 4))\n",
        "plt.subplot(1, 2, 1)\n",
        "plt.plot(history.history['accuracy'])\n",
        "plt.plot(history.history['val_accuracy'])\n",
        "plt.title('Model accuracy')\n",
        "plt.ylabel('Accuracy')\n",
        "plt.xlabel('Epoch')\n",
        "plt.legend(['Train', 'Test'], loc='upper left')\n",
        "\n",
        "# Plot training & validation loss values\n",
        "plt.subplot(1, 2, 2)\n",
        "plt.plot(history.history['loss'])\n",
        "plt.plot(history.history['val_loss'])\n",
        "plt.title('Model loss')\n",
        "plt.ylabel('Loss')\n",
        "plt.xlabel('Epoch')\n",
        "plt.legend(['Train', 'Test'], loc='upper left')\n",
        "\n",
        "plt.show()"
      ]
    },
    {
      "cell_type": "code",
      "execution_count": null,
      "metadata": {},
      "outputs": [],
      "source": []
    },
    {
      "cell_type": "markdown",
      "metadata": {},
      "source": [
        "## LSTM"
      ]
    },
    {
      "cell_type": "code",
      "execution_count": 39,
      "metadata": {},
      "outputs": [
        {
          "name": "stderr",
          "output_type": "stream",
          "text": [
            "/Library/Frameworks/Python.framework/Versions/3.11/lib/python3.11/site-packages/keras/src/layers/rnn/rnn.py:204: UserWarning: Do not pass an `input_shape`/`input_dim` argument to a layer. When using Sequential models, prefer using an `Input(shape)` object as the first layer in the model instead.\n",
            "  super().__init__(**kwargs)\n"
          ]
        },
        {
          "data": {
            "text/html": [
              "<pre style=\"white-space:pre;overflow-x:auto;line-height:normal;font-family:Menlo,'DejaVu Sans Mono',consolas,'Courier New',monospace\"><span style=\"font-weight: bold\">Model: \"sequential_1\"</span>\n",
              "</pre>\n"
            ],
            "text/plain": [
              "\u001b[1mModel: \"sequential_1\"\u001b[0m\n"
            ]
          },
          "metadata": {},
          "output_type": "display_data"
        },
        {
          "data": {
            "text/html": [
              "<pre style=\"white-space:pre;overflow-x:auto;line-height:normal;font-family:Menlo,'DejaVu Sans Mono',consolas,'Courier New',monospace\">┏━━━━━━━━━━━━━━━━━━━━━━━━━━━━━━━━━┳━━━━━━━━━━━━━━━━━━━━━━━━┳━━━━━━━━━━━━━━━┓\n",
              "┃<span style=\"font-weight: bold\"> Layer (type)                    </span>┃<span style=\"font-weight: bold\"> Output Shape           </span>┃<span style=\"font-weight: bold\">       Param # </span>┃\n",
              "┡━━━━━━━━━━━━━━━━━━━━━━━━━━━━━━━━━╇━━━━━━━━━━━━━━━━━━━━━━━━╇━━━━━━━━━━━━━━━┩\n",
              "│ lstm (<span style=\"color: #0087ff; text-decoration-color: #0087ff\">LSTM</span>)                     │ (<span style=\"color: #00d7ff; text-decoration-color: #00d7ff\">None</span>, <span style=\"color: #00af00; text-decoration-color: #00af00\">408</span>, <span style=\"color: #00af00; text-decoration-color: #00af00\">128</span>)       │        <span style=\"color: #00af00; text-decoration-color: #00af00\">66,560</span> │\n",
              "├─────────────────────────────────┼────────────────────────┼───────────────┤\n",
              "│ dropout_1 (<span style=\"color: #0087ff; text-decoration-color: #0087ff\">Dropout</span>)             │ (<span style=\"color: #00d7ff; text-decoration-color: #00d7ff\">None</span>, <span style=\"color: #00af00; text-decoration-color: #00af00\">408</span>, <span style=\"color: #00af00; text-decoration-color: #00af00\">128</span>)       │             <span style=\"color: #00af00; text-decoration-color: #00af00\">0</span> │\n",
              "├─────────────────────────────────┼────────────────────────┼───────────────┤\n",
              "│ lstm_1 (<span style=\"color: #0087ff; text-decoration-color: #0087ff\">LSTM</span>)                   │ (<span style=\"color: #00d7ff; text-decoration-color: #00d7ff\">None</span>, <span style=\"color: #00af00; text-decoration-color: #00af00\">64</span>)             │        <span style=\"color: #00af00; text-decoration-color: #00af00\">49,408</span> │\n",
              "├─────────────────────────────────┼────────────────────────┼───────────────┤\n",
              "│ dropout_2 (<span style=\"color: #0087ff; text-decoration-color: #0087ff\">Dropout</span>)             │ (<span style=\"color: #00d7ff; text-decoration-color: #00d7ff\">None</span>, <span style=\"color: #00af00; text-decoration-color: #00af00\">64</span>)             │             <span style=\"color: #00af00; text-decoration-color: #00af00\">0</span> │\n",
              "├─────────────────────────────────┼────────────────────────┼───────────────┤\n",
              "│ dense_1 (<span style=\"color: #0087ff; text-decoration-color: #0087ff\">Dense</span>)                 │ (<span style=\"color: #00d7ff; text-decoration-color: #00d7ff\">None</span>, <span style=\"color: #00af00; text-decoration-color: #00af00\">2</span>)              │           <span style=\"color: #00af00; text-decoration-color: #00af00\">130</span> │\n",
              "└─────────────────────────────────┴────────────────────────┴───────────────┘\n",
              "</pre>\n"
            ],
            "text/plain": [
              "┏━━━━━━━━━━━━━━━━━━━━━━━━━━━━━━━━━┳━━━━━━━━━━━━━━━━━━━━━━━━┳━━━━━━━━━━━━━━━┓\n",
              "┃\u001b[1m \u001b[0m\u001b[1mLayer (type)                   \u001b[0m\u001b[1m \u001b[0m┃\u001b[1m \u001b[0m\u001b[1mOutput Shape          \u001b[0m\u001b[1m \u001b[0m┃\u001b[1m \u001b[0m\u001b[1m      Param #\u001b[0m\u001b[1m \u001b[0m┃\n",
              "┡━━━━━━━━━━━━━━━━━━━━━━━━━━━━━━━━━╇━━━━━━━━━━━━━━━━━━━━━━━━╇━━━━━━━━━━━━━━━┩\n",
              "│ lstm (\u001b[38;5;33mLSTM\u001b[0m)                     │ (\u001b[38;5;45mNone\u001b[0m, \u001b[38;5;34m408\u001b[0m, \u001b[38;5;34m128\u001b[0m)       │        \u001b[38;5;34m66,560\u001b[0m │\n",
              "├─────────────────────────────────┼────────────────────────┼───────────────┤\n",
              "│ dropout_1 (\u001b[38;5;33mDropout\u001b[0m)             │ (\u001b[38;5;45mNone\u001b[0m, \u001b[38;5;34m408\u001b[0m, \u001b[38;5;34m128\u001b[0m)       │             \u001b[38;5;34m0\u001b[0m │\n",
              "├─────────────────────────────────┼────────────────────────┼───────────────┤\n",
              "│ lstm_1 (\u001b[38;5;33mLSTM\u001b[0m)                   │ (\u001b[38;5;45mNone\u001b[0m, \u001b[38;5;34m64\u001b[0m)             │        \u001b[38;5;34m49,408\u001b[0m │\n",
              "├─────────────────────────────────┼────────────────────────┼───────────────┤\n",
              "│ dropout_2 (\u001b[38;5;33mDropout\u001b[0m)             │ (\u001b[38;5;45mNone\u001b[0m, \u001b[38;5;34m64\u001b[0m)             │             \u001b[38;5;34m0\u001b[0m │\n",
              "├─────────────────────────────────┼────────────────────────┼───────────────┤\n",
              "│ dense_1 (\u001b[38;5;33mDense\u001b[0m)                 │ (\u001b[38;5;45mNone\u001b[0m, \u001b[38;5;34m2\u001b[0m)              │           \u001b[38;5;34m130\u001b[0m │\n",
              "└─────────────────────────────────┴────────────────────────┴───────────────┘\n"
            ]
          },
          "metadata": {},
          "output_type": "display_data"
        },
        {
          "data": {
            "text/html": [
              "<pre style=\"white-space:pre;overflow-x:auto;line-height:normal;font-family:Menlo,'DejaVu Sans Mono',consolas,'Courier New',monospace\"><span style=\"font-weight: bold\"> Total params: </span><span style=\"color: #00af00; text-decoration-color: #00af00\">116,098</span> (453.51 KB)\n",
              "</pre>\n"
            ],
            "text/plain": [
              "\u001b[1m Total params: \u001b[0m\u001b[38;5;34m116,098\u001b[0m (453.51 KB)\n"
            ]
          },
          "metadata": {},
          "output_type": "display_data"
        },
        {
          "data": {
            "text/html": [
              "<pre style=\"white-space:pre;overflow-x:auto;line-height:normal;font-family:Menlo,'DejaVu Sans Mono',consolas,'Courier New',monospace\"><span style=\"font-weight: bold\"> Trainable params: </span><span style=\"color: #00af00; text-decoration-color: #00af00\">116,098</span> (453.51 KB)\n",
              "</pre>\n"
            ],
            "text/plain": [
              "\u001b[1m Trainable params: \u001b[0m\u001b[38;5;34m116,098\u001b[0m (453.51 KB)\n"
            ]
          },
          "metadata": {},
          "output_type": "display_data"
        },
        {
          "data": {
            "text/html": [
              "<pre style=\"white-space:pre;overflow-x:auto;line-height:normal;font-family:Menlo,'DejaVu Sans Mono',consolas,'Courier New',monospace\"><span style=\"font-weight: bold\"> Non-trainable params: </span><span style=\"color: #00af00; text-decoration-color: #00af00\">0</span> (0.00 B)\n",
              "</pre>\n"
            ],
            "text/plain": [
              "\u001b[1m Non-trainable params: \u001b[0m\u001b[38;5;34m0\u001b[0m (0.00 B)\n"
            ]
          },
          "metadata": {},
          "output_type": "display_data"
        }
      ],
      "source": [
        "# Define the RNN model\n",
        "lstm_model = Sequential()\n",
        "lstm_model.add(LSTM(128, input_shape=(X_train.shape[1], 1), return_sequences=True))\n",
        "lstm_model.add(Dropout(0.2))\n",
        "lstm_model.add(LSTM(64))\n",
        "lstm_model.add(Dropout(0.2))\n",
        "lstm_model.add(Dense(len(np.unique(y)), activation='softmax'))\n",
        "\n",
        "# Compile the model\n",
        "lstm_model.compile(optimizer='adam', loss='categorical_crossentropy', metrics=['accuracy'])\n",
        "\n",
        "# Print the model summary\n",
        "lstm_model.summary()"
      ]
    },
    {
      "cell_type": "code",
      "execution_count": 42,
      "metadata": {},
      "outputs": [
        {
          "name": "stdout",
          "output_type": "stream",
          "text": [
            "(217180, 408, 1)\n",
            "(217180,)\n",
            "(54295, 408, 1)\n",
            "(54295,)\n"
          ]
        }
      ],
      "source": [
        "print(X_train_reshaped.shape)\n",
        "print(y_train.shape)\n",
        "print(X_test_reshaped.shape)\n",
        "print(y_test.shape)"
      ]
    },
    {
      "cell_type": "code",
      "execution_count": 44,
      "metadata": {},
      "outputs": [
        {
          "name": "stdout",
          "output_type": "stream",
          "text": [
            "Epoch 1/2\n"
          ]
        },
        {
          "ename": "ValueError",
          "evalue": "Arguments `target` and `output` must have the same shape. Received: target.shape=(None, 1), output.shape=(None, 2)",
          "output_type": "error",
          "traceback": [
            "\u001b[0;31m---------------------------------------------------------------------------\u001b[0m",
            "\u001b[0;31mValueError\u001b[0m                                Traceback (most recent call last)",
            "Cell \u001b[0;32mIn[44], line 1\u001b[0m\n\u001b[0;32m----> 1\u001b[0m history \u001b[38;5;241m=\u001b[39m \u001b[43mlstm_model\u001b[49m\u001b[38;5;241;43m.\u001b[39;49m\u001b[43mfit\u001b[49m\u001b[43m(\u001b[49m\u001b[43mX_train_reshaped\u001b[49m\u001b[43m,\u001b[49m\u001b[43m \u001b[49m\u001b[43my_train\u001b[49m\u001b[43m,\u001b[49m\u001b[43m \u001b[49m\u001b[43mvalidation_data\u001b[49m\u001b[38;5;241;43m=\u001b[39;49m\u001b[43m(\u001b[49m\u001b[43mX_test_reshaped\u001b[49m\u001b[43m,\u001b[49m\u001b[43m \u001b[49m\u001b[43my_test\u001b[49m\u001b[43m)\u001b[49m\u001b[43m,\u001b[49m\u001b[43m \u001b[49m\u001b[43mepochs\u001b[49m\u001b[38;5;241;43m=\u001b[39;49m\u001b[38;5;241;43m2\u001b[39;49m\u001b[43m,\u001b[49m\u001b[43m \u001b[49m\u001b[43mbatch_size\u001b[49m\u001b[38;5;241;43m=\u001b[39;49m\u001b[38;5;241;43m32\u001b[39;49m\u001b[43m,\u001b[49m\u001b[43m \u001b[49m\u001b[43mverbose\u001b[49m\u001b[38;5;241;43m=\u001b[39;49m\u001b[38;5;241;43m1\u001b[39;49m\u001b[43m)\u001b[49m\n",
            "File \u001b[0;32m/Library/Frameworks/Python.framework/Versions/3.11/lib/python3.11/site-packages/keras/src/utils/traceback_utils.py:122\u001b[0m, in \u001b[0;36mfilter_traceback.<locals>.error_handler\u001b[0;34m(*args, **kwargs)\u001b[0m\n\u001b[1;32m    119\u001b[0m     filtered_tb \u001b[38;5;241m=\u001b[39m _process_traceback_frames(e\u001b[38;5;241m.\u001b[39m__traceback__)\n\u001b[1;32m    120\u001b[0m     \u001b[38;5;66;03m# To get the full stack trace, call:\u001b[39;00m\n\u001b[1;32m    121\u001b[0m     \u001b[38;5;66;03m# `keras.config.disable_traceback_filtering()`\u001b[39;00m\n\u001b[0;32m--> 122\u001b[0m     \u001b[38;5;28;01mraise\u001b[39;00m e\u001b[38;5;241m.\u001b[39mwith_traceback(filtered_tb) \u001b[38;5;28;01mfrom\u001b[39;00m \u001b[38;5;28;01mNone\u001b[39;00m\n\u001b[1;32m    123\u001b[0m \u001b[38;5;28;01mfinally\u001b[39;00m:\n\u001b[1;32m    124\u001b[0m     \u001b[38;5;28;01mdel\u001b[39;00m filtered_tb\n",
            "File \u001b[0;32m/Library/Frameworks/Python.framework/Versions/3.11/lib/python3.11/site-packages/keras/src/backend/tensorflow/nn.py:561\u001b[0m, in \u001b[0;36mcategorical_crossentropy\u001b[0;34m(target, output, from_logits, axis)\u001b[0m\n\u001b[1;32m    559\u001b[0m \u001b[38;5;28;01mfor\u001b[39;00m e1, e2 \u001b[38;5;129;01min\u001b[39;00m \u001b[38;5;28mzip\u001b[39m(target\u001b[38;5;241m.\u001b[39mshape, output\u001b[38;5;241m.\u001b[39mshape):\n\u001b[1;32m    560\u001b[0m     \u001b[38;5;28;01mif\u001b[39;00m e1 \u001b[38;5;129;01mis\u001b[39;00m \u001b[38;5;129;01mnot\u001b[39;00m \u001b[38;5;28;01mNone\u001b[39;00m \u001b[38;5;129;01mand\u001b[39;00m e2 \u001b[38;5;129;01mis\u001b[39;00m \u001b[38;5;129;01mnot\u001b[39;00m \u001b[38;5;28;01mNone\u001b[39;00m \u001b[38;5;129;01mand\u001b[39;00m e1 \u001b[38;5;241m!=\u001b[39m e2:\n\u001b[0;32m--> 561\u001b[0m         \u001b[38;5;28;01mraise\u001b[39;00m \u001b[38;5;167;01mValueError\u001b[39;00m(\n\u001b[1;32m    562\u001b[0m             \u001b[38;5;124m\"\u001b[39m\u001b[38;5;124mArguments `target` and `output` must have the same shape. \u001b[39m\u001b[38;5;124m\"\u001b[39m\n\u001b[1;32m    563\u001b[0m             \u001b[38;5;124m\"\u001b[39m\u001b[38;5;124mReceived: \u001b[39m\u001b[38;5;124m\"\u001b[39m\n\u001b[1;32m    564\u001b[0m             \u001b[38;5;124mf\u001b[39m\u001b[38;5;124m\"\u001b[39m\u001b[38;5;124mtarget.shape=\u001b[39m\u001b[38;5;132;01m{\u001b[39;00mtarget\u001b[38;5;241m.\u001b[39mshape\u001b[38;5;132;01m}\u001b[39;00m\u001b[38;5;124m, output.shape=\u001b[39m\u001b[38;5;132;01m{\u001b[39;00moutput\u001b[38;5;241m.\u001b[39mshape\u001b[38;5;132;01m}\u001b[39;00m\u001b[38;5;124m\"\u001b[39m\n\u001b[1;32m    565\u001b[0m         )\n\u001b[1;32m    567\u001b[0m output, from_logits \u001b[38;5;241m=\u001b[39m _get_logits(\n\u001b[1;32m    568\u001b[0m     output, from_logits, \u001b[38;5;124m\"\u001b[39m\u001b[38;5;124mSoftmax\u001b[39m\u001b[38;5;124m\"\u001b[39m, \u001b[38;5;124m\"\u001b[39m\u001b[38;5;124mcategorical_crossentropy\u001b[39m\u001b[38;5;124m\"\u001b[39m\n\u001b[1;32m    569\u001b[0m )\n\u001b[1;32m    570\u001b[0m \u001b[38;5;28;01mif\u001b[39;00m from_logits:\n",
            "\u001b[0;31mValueError\u001b[0m: Arguments `target` and `output` must have the same shape. Received: target.shape=(None, 1), output.shape=(None, 2)"
          ]
        }
      ],
      "source": [
        "history = lstm_model.fit(X_train_reshaped, y_train, validation_data=(X_test_reshaped, y_test), epochs=2, batch_size=32, verbose=1)"
      ]
    },
    {
      "cell_type": "code",
      "execution_count": null,
      "metadata": {},
      "outputs": [],
      "source": [
        "# Evaluate the model\n",
        "loss, accuracy = lstm_model.evaluate(X_test_reshaped, y_test)\n",
        "print(f'Test Accuracy: {accuracy * 100:.2f}%')\n",
        "\n",
        "# Plot training & validation accuracy values\n",
        "plt.figure(figsize=(12, 4))\n",
        "plt.subplot(1, 2, 1)\n",
        "plt.plot(history.history['accuracy'])\n",
        "plt.plot(history.history['val_accuracy'])\n",
        "plt.title('Model accuracy')\n",
        "plt.ylabel('Accuracy')\n",
        "plt.xlabel('Epoch')\n",
        "plt.legend(['Train', 'Test'], loc='upper left')\n",
        "\n",
        "# Plot training & validation loss values\n",
        "plt.subplot(1, 2, 2)\n",
        "plt.plot(history.history['loss'])\n",
        "plt.plot(history.history['val_loss'])\n",
        "plt.title('Model loss')\n",
        "plt.ylabel('Loss')\n",
        "plt.xlabel('Epoch')\n",
        "plt.legend(['Train', 'Test'], loc='upper left')\n",
        "\n",
        "plt.show()"
      ]
    },
    {
      "cell_type": "code",
      "execution_count": null,
      "metadata": {},
      "outputs": [],
      "source": []
    },
    {
      "cell_type": "code",
      "execution_count": null,
      "metadata": {},
      "outputs": [],
      "source": []
    },
    {
      "cell_type": "code",
      "execution_count": null,
      "metadata": {},
      "outputs": [],
      "source": []
    },
    {
      "cell_type": "code",
      "execution_count": null,
      "metadata": {},
      "outputs": [],
      "source": []
    },
    {
      "cell_type": "code",
      "execution_count": null,
      "metadata": {},
      "outputs": [],
      "source": []
    },
    {
      "cell_type": "code",
      "execution_count": null,
      "metadata": {},
      "outputs": [],
      "source": []
    },
    {
      "cell_type": "code",
      "execution_count": null,
      "metadata": {},
      "outputs": [],
      "source": []
    },
    {
      "cell_type": "code",
      "execution_count": null,
      "metadata": {},
      "outputs": [],
      "source": [
        "# Function to create the model\n",
        "def create_model(optimizer='adam', dropout_rate=0.2):\n",
        "    model = Sequential()\n",
        "    model.add(LSTM(64, input_shape=(X_train_reshaped.shape[1], 1)))\n",
        "    model.add(Dropout(dropout_rate))\n",
        "    model.add(Dense(y_train.shape[1], activation='softmax'))\n",
        "    model.compile(loss='categorical_crossentropy', optimizer=optimizer, metrics=['accuracy'])\n",
        "    return model\n",
        "\n",
        "# Wrap the model using KerasClassifier\n",
        "model = KerasClassifier(build_fn=create_model, verbose=0)\n",
        "\n",
        "# Define the hyperparameter grid\n",
        "param_grid = {\n",
        "    'batch_size': [16, 32, 64],\n",
        "    'epochs': [2],\n",
        "    'optimizer': ['adam', 'rmsprop'],\n",
        "    'dropout_rate': [0.2, 0.3, 0.4]\n",
        "}\n",
        "\n",
        "# Perform hyperparameter tuning using RandomizedSearchCV\n",
        "grid = RandomizedSearchCV(estimator=model, param_distributions=param_grid, n_iter=5, cv=3, verbose=2)\n",
        "grid_result = grid.fit(X_train_reshaped, y_train)\n",
        "\n",
        "# Print the best parameters and best score\n",
        "print(f\"Best Parameters: {grid_result.best_params_}\")\n",
        "print(f\"Best Accuracy: {grid_result.best_score_}\")\n",
        "\n",
        "# Evaluate the model on the test set\n",
        "best_model = grid_result.best_estimator_\n",
        "y_pred_cat = best_model.predict(X_test_reshaped)\n",
        "y_pred = np.argmax(y_pred_cat, axis=1)\n",
        "\n",
        "# Calculate accuracy and other metrics\n",
        "accuracy = accuracy_score(y_test, y_pred)\n",
        "print(f\"Test Accuracy: {accuracy}\")\n",
        "print(classification_report(y_test, y_pred, target_names=label_encoder.classes_))\n",
        "\n",
        "# Plotting accuracy and loss\n",
        "import matplotlib.pyplot as plt\n",
        "\n",
        "history = grid_result.best_estimator_.fit(X_train_reshaped, y_train, validation_data=(X_test_reshaped, y_test), epochs=grid_result.best_params_['epochs'], batch_size=grid_result.best_params_['batch_size'], verbose=0)\n"
      ]
    }
  ],
  "metadata": {
    "accelerator": "GPU",
    "colab": {
      "gpuType": "T4",
      "provenance": []
    },
    "kernelspec": {
      "display_name": "Python 3",
      "name": "python3"
    },
    "language_info": {
      "codemirror_mode": {
        "name": "ipython",
        "version": 3
      },
      "file_extension": ".py",
      "mimetype": "text/x-python",
      "name": "python",
      "nbconvert_exporter": "python",
      "pygments_lexer": "ipython3",
      "version": "3.11.9"
    }
  },
  "nbformat": 4,
  "nbformat_minor": 0
}

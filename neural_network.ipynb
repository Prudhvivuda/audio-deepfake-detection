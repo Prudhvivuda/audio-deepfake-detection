{
 "cells": [
  {
   "cell_type": "code",
   "execution_count": 4,
   "metadata": {},
   "outputs": [],
   "source": [
    "from sklearn.impute import SimpleImputer\n",
    "import pandas as pd\n",
    "from sklearn.preprocessing import LabelEncoder, StandardScaler\n"
   ]
  },
  {
   "cell_type": "code",
   "execution_count": 5,
   "metadata": {},
   "outputs": [
    {
     "name": "stdout",
     "output_type": "stream",
     "text": [
      "272428\n"
     ]
    }
   ],
   "source": [
    "file_path = '/Users/pvuda/Documents/f/combined_file.csv'\n",
    "data = pd.read_csv(file_path)\n",
    "print(len(data))"
   ]
  },
  {
   "cell_type": "code",
   "execution_count": 6,
   "metadata": {},
   "outputs": [
    {
     "name": "stdout",
     "output_type": "stream",
     "text": [
      "130\n"
     ]
    }
   ],
   "source": [
    "x_cols = ['spectral_bandwidth_min', 'spectral_contrast_mean',\n",
    "       'spectral_contrast_std', 'spectral_contrast_var',\n",
    "       'spectral_contrast_max', 'spectral_contrast_range',\n",
    "       'spectral_contrast_50th_percentile',\n",
    "       'spectral_contrast_75th_percentile', 'spectral_contrast_skew',\n",
    "       'spectral_contrast_kurtosis','spectral_contrast_mean', 'spectral_contrast_std',\n",
    "       'spectral_contrast_var', 'spectral_contrast_max',\n",
    "       'spectral_contrast_range', 'spectral_contrast_25th_percentile',\n",
    "       'spectral_contrast_50th_percentile',\n",
    "       'spectral_contrast_75th_percentile', 'spectral_contrast_skew',\n",
    "       'spectral_flatness_max','spectral_contrast_mean', 'spectral_contrast_std',\n",
    "       'spectral_contrast_var', 'spectral_contrast_max',\n",
    "       'spectral_contrast_range', 'spectral_contrast_skew',\n",
    "       'spectral_flux_std', 'energy_std', 'energy_max', 'energy_range','spectral_bandwidth_25th_percentile', 'spectral_contrast_std',\n",
    "       'spectral_contrast_var', 'spectral_contrast_75th_percentile',\n",
    "       'spectral_contrast_skew', 'spectral_contrast_kurtosis', 'shimmer_local',\n",
    "       'shimmer_apq3', 'shimmer_apq5', 'shimmer_dda','spectral_contrast_mean', 'spectral_contrast_max',\n",
    "       'spectral_contrast_range', 'spectral_contrast_25th_percentile',\n",
    "       'spectral_contrast_50th_percentile',\n",
    "       'spectral_contrast_75th_percentile', 'spectral_contrast_skew',\n",
    "       'spectral_contrast_kurtosis', 'jitter_rap', 'jitter_ppq5','spectral_contrast_mean', 'spectral_contrast_std',\n",
    "       'spectral_contrast_var', 'spectral_contrast_max',\n",
    "       'spectral_contrast_range', 'spectral_contrast_skew',\n",
    "       'spectral_flux_std', 'energy_std', 'energy_max', 'energy_range','spectral_contrast_mean', 'spectral_contrast_max',\n",
    "       'spectral_contrast_range', 'spectral_contrast_50th_percentile',\n",
    "       'spectral_contrast_75th_percentile', 'jitter_ppq5', 'shimmer_local',\n",
    "       'speakingrate', 'articulationrate', 'asd','spectral_contrast_mean', 'spectral_contrast_25th_percentile',\n",
    "       'spectral_contrast_50th_percentile',\n",
    "       'spectral_contrast_75th_percentile', 'spectral_contrast_skew',\n",
    "       'spectral_contrast_kurtosis', 'spectral_flatness_mean', 'jitter_local',\n",
    "       'jitter_rap', 'jitter_ppq5','spectral_contrast_mean', 'spectral_contrast_25th_percentile',\n",
    "       'spectral_contrast_50th_percentile',\n",
    "       'spectral_contrast_75th_percentile', 'spectral_contrast_skew',\n",
    "       'spectral_contrast_kurtosis', 'jitter_rap', 'jitter_ppq5',\n",
    "       'shimmer_apq3', 'shimmer_dda','spectral_contrast_std', 'spectral_contrast_var',\n",
    "       'spectral_contrast_max', 'spectral_contrast_range',\n",
    "       'spectral_contrast_25th_percentile', 'shimmer_apq3', 'shimmer_dda',\n",
    "       'speakingrate', 'articulationrate', 'asd','spectral_contrast_mean', 'spectral_contrast_25th_percentile',\n",
    "       'spectral_contrast_50th_percentile',\n",
    "       'spectral_contrast_75th_percentile', 'spectral_contrast_skew',\n",
    "       'spectral_contrast_kurtosis', 'mfcc_4_75th_percentile', 'jitter_rap',\n",
    "       'jitter_ppq5', 'hnr','spectral_contrast_mean', 'spectral_contrast_50th_percentile',\n",
    "       'spectral_contrast_75th_percentile', 'spectral_contrast_skew',\n",
    "       'spectral_contrast_kurtosis', 'spectral_flux_mean', 'energy_mean',\n",
    "       'energy_75th_percentile', 'jitter_rap', 'jitter_ppq5','spectral_contrast_mean', 'spectral_contrast_25th_percentile',\n",
    "       'spectral_contrast_50th_percentile',\n",
    "       'spectral_contrast_75th_percentile', 'spectral_contrast_skew',\n",
    "       'spectral_contrast_kurtosis', 'shimmer_local', 'shimmer_apq3',\n",
    "       'shimmer_apq5', 'shimmer_dda']\n",
    "print(len(x_cols))"
   ]
  },
  {
   "cell_type": "markdown",
   "metadata": {},
   "source": [
    "## Binary Classification"
   ]
  },
  {
   "cell_type": "code",
   "execution_count": 7,
   "metadata": {},
   "outputs": [],
   "source": [
    "# Create a new target variable for binary classification\n",
    "data['real_or_fake_general'] = data['real_or_fake'].apply(lambda x: 'R' if x == 'R' else 'F')\n",
    "\n",
    "# Encode the binary labels\n",
    "label_encoder = LabelEncoder()\n",
    "data['real_or_fake_general'] = label_encoder.fit_transform(data['real_or_fake_general'])\n",
    "\n",
    "# Prepare feature matrix and target vector\n",
    "# X = data.drop(columns=['audio_id', 'real_or_fake', 'real_or_fake_general'])\n",
    "X = data[x_cols]\n",
    "y = data['real_or_fake_general']"
   ]
  },
  {
   "cell_type": "code",
   "execution_count": 8,
   "metadata": {},
   "outputs": [],
   "source": [
    "# Handle missing values in X\n",
    "imputer = SimpleImputer(strategy='mean')\n",
    "X_imputed = imputer.fit_transform(X)"
   ]
  },
  {
   "cell_type": "code",
   "execution_count": 9,
   "metadata": {},
   "outputs": [
    {
     "name": "stdout",
     "output_type": "stream",
     "text": [
      "Epoch 1/20\n"
     ]
    },
    {
     "name": "stderr",
     "output_type": "stream",
     "text": [
      "/Library/Frameworks/Python.framework/Versions/3.11/lib/python3.11/site-packages/keras/src/layers/core/dense.py:87: UserWarning: Do not pass an `input_shape`/`input_dim` argument to a layer. When using Sequential models, prefer using an `Input(shape)` object as the first layer in the model instead.\n",
      "  super().__init__(activity_regularizer=activity_regularizer, **kwargs)\n"
     ]
    },
    {
     "name": "stdout",
     "output_type": "stream",
     "text": [
      "\u001b[1m6811/6811\u001b[0m \u001b[32m━━━━━━━━━━━━━━━━━━━━\u001b[0m\u001b[37m\u001b[0m \u001b[1m9s\u001b[0m 1ms/step - accuracy: 0.8551 - loss: nan - val_accuracy: 0.8607 - val_loss: nan\n",
      "Epoch 2/20\n",
      "\u001b[1m6811/6811\u001b[0m \u001b[32m━━━━━━━━━━━━━━━━━━━━\u001b[0m\u001b[37m\u001b[0m \u001b[1m9s\u001b[0m 1ms/step - accuracy: 0.8575 - loss: nan - val_accuracy: 0.8607 - val_loss: nan\n",
      "Epoch 3/20\n",
      "\u001b[1m6811/6811\u001b[0m \u001b[32m━━━━━━━━━━━━━━━━━━━━\u001b[0m\u001b[37m\u001b[0m \u001b[1m11s\u001b[0m 2ms/step - accuracy: 0.8594 - loss: nan - val_accuracy: 0.8607 - val_loss: nan\n",
      "Epoch 4/20\n",
      "\u001b[1m6811/6811\u001b[0m \u001b[32m━━━━━━━━━━━━━━━━━━━━\u001b[0m\u001b[37m\u001b[0m \u001b[1m11s\u001b[0m 2ms/step - accuracy: 0.8575 - loss: nan - val_accuracy: 0.8607 - val_loss: nan\n",
      "Epoch 5/20\n",
      "\u001b[1m6811/6811\u001b[0m \u001b[32m━━━━━━━━━━━━━━━━━━━━\u001b[0m\u001b[37m\u001b[0m \u001b[1m12s\u001b[0m 2ms/step - accuracy: 0.8596 - loss: nan - val_accuracy: 0.8607 - val_loss: nan\n",
      "Epoch 6/20\n",
      "\u001b[1m6811/6811\u001b[0m \u001b[32m━━━━━━━━━━━━━━━━━━━━\u001b[0m\u001b[37m\u001b[0m \u001b[1m11s\u001b[0m 2ms/step - accuracy: 0.8599 - loss: nan - val_accuracy: 0.8607 - val_loss: nan\n",
      "Epoch 7/20\n",
      "\u001b[1m6811/6811\u001b[0m \u001b[32m━━━━━━━━━━━━━━━━━━━━\u001b[0m\u001b[37m\u001b[0m \u001b[1m11s\u001b[0m 2ms/step - accuracy: 0.8587 - loss: nan - val_accuracy: 0.8607 - val_loss: nan\n",
      "Epoch 8/20\n",
      "\u001b[1m6811/6811\u001b[0m \u001b[32m━━━━━━━━━━━━━━━━━━━━\u001b[0m\u001b[37m\u001b[0m \u001b[1m8s\u001b[0m 1ms/step - accuracy: 0.8582 - loss: nan - val_accuracy: 0.8607 - val_loss: nan\n",
      "Epoch 9/20\n",
      "\u001b[1m6811/6811\u001b[0m \u001b[32m━━━━━━━━━━━━━━━━━━━━\u001b[0m\u001b[37m\u001b[0m \u001b[1m10s\u001b[0m 2ms/step - accuracy: 0.8590 - loss: nan - val_accuracy: 0.8607 - val_loss: nan\n",
      "Epoch 10/20\n",
      "\u001b[1m6811/6811\u001b[0m \u001b[32m━━━━━━━━━━━━━━━━━━━━\u001b[0m\u001b[37m\u001b[0m \u001b[1m8s\u001b[0m 1ms/step - accuracy: 0.8595 - loss: nan - val_accuracy: 0.8607 - val_loss: nan\n",
      "Epoch 11/20\n",
      "\u001b[1m6811/6811\u001b[0m \u001b[32m━━━━━━━━━━━━━━━━━━━━\u001b[0m\u001b[37m\u001b[0m \u001b[1m8s\u001b[0m 1ms/step - accuracy: 0.8581 - loss: nan - val_accuracy: 0.8607 - val_loss: nan\n",
      "Epoch 12/20\n",
      "\u001b[1m6811/6811\u001b[0m \u001b[32m━━━━━━━━━━━━━━━━━━━━\u001b[0m\u001b[37m\u001b[0m \u001b[1m8s\u001b[0m 1ms/step - accuracy: 0.8593 - loss: nan - val_accuracy: 0.8607 - val_loss: nan\n",
      "Epoch 13/20\n",
      "\u001b[1m6811/6811\u001b[0m \u001b[32m━━━━━━━━━━━━━━━━━━━━\u001b[0m\u001b[37m\u001b[0m \u001b[1m8s\u001b[0m 1ms/step - accuracy: 0.8574 - loss: nan - val_accuracy: 0.8607 - val_loss: nan\n",
      "Epoch 14/20\n",
      "\u001b[1m6811/6811\u001b[0m \u001b[32m━━━━━━━━━━━━━━━━━━━━\u001b[0m\u001b[37m\u001b[0m \u001b[1m10s\u001b[0m 1ms/step - accuracy: 0.8582 - loss: nan - val_accuracy: 0.8607 - val_loss: nan\n",
      "Epoch 15/20\n",
      "\u001b[1m6811/6811\u001b[0m \u001b[32m━━━━━━━━━━━━━━━━━━━━\u001b[0m\u001b[37m\u001b[0m \u001b[1m9s\u001b[0m 1ms/step - accuracy: 0.8572 - loss: nan - val_accuracy: 0.8607 - val_loss: nan\n",
      "Epoch 16/20\n",
      "\u001b[1m6811/6811\u001b[0m \u001b[32m━━━━━━━━━━━━━━━━━━━━\u001b[0m\u001b[37m\u001b[0m \u001b[1m8s\u001b[0m 1ms/step - accuracy: 0.8589 - loss: nan - val_accuracy: 0.8607 - val_loss: nan\n",
      "Epoch 17/20\n",
      "\u001b[1m6811/6811\u001b[0m \u001b[32m━━━━━━━━━━━━━━━━━━━━\u001b[0m\u001b[37m\u001b[0m \u001b[1m8s\u001b[0m 1ms/step - accuracy: 0.8594 - loss: nan - val_accuracy: 0.8607 - val_loss: nan\n",
      "Epoch 18/20\n",
      "\u001b[1m6811/6811\u001b[0m \u001b[32m━━━━━━━━━━━━━━━━━━━━\u001b[0m\u001b[37m\u001b[0m \u001b[1m8s\u001b[0m 1ms/step - accuracy: 0.8575 - loss: nan - val_accuracy: 0.8607 - val_loss: nan\n",
      "Epoch 19/20\n",
      "\u001b[1m6811/6811\u001b[0m \u001b[32m━━━━━━━━━━━━━━━━━━━━\u001b[0m\u001b[37m\u001b[0m \u001b[1m9s\u001b[0m 1ms/step - accuracy: 0.8585 - loss: nan - val_accuracy: 0.8607 - val_loss: nan\n",
      "Epoch 20/20\n",
      "\u001b[1m6811/6811\u001b[0m \u001b[32m━━━━━━━━━━━━━━━━━━━━\u001b[0m\u001b[37m\u001b[0m \u001b[1m8s\u001b[0m 1ms/step - accuracy: 0.8588 - loss: nan - val_accuracy: 0.8607 - val_loss: nan\n",
      "\u001b[1m1703/1703\u001b[0m \u001b[32m━━━━━━━━━━━━━━━━━━━━\u001b[0m\u001b[37m\u001b[0m \u001b[1m1s\u001b[0m 753us/step - accuracy: 0.8611 - loss: nan\n",
      "Accuracy: 0.86\n"
     ]
    },
    {
     "ename": "AttributeError",
     "evalue": "'Sequential' object has no attribute 'predict_classes'",
     "output_type": "error",
     "traceback": [
      "\u001b[0;31m---------------------------------------------------------------------------\u001b[0m",
      "\u001b[0;31mAttributeError\u001b[0m                            Traceback (most recent call last)",
      "Cell \u001b[0;32mIn[9], line 39\u001b[0m\n\u001b[1;32m     36\u001b[0m \u001b[38;5;28mprint\u001b[39m(\u001b[38;5;124mf\u001b[39m\u001b[38;5;124m\"\u001b[39m\u001b[38;5;124mAccuracy: \u001b[39m\u001b[38;5;132;01m{\u001b[39;00maccuracy\u001b[38;5;132;01m:\u001b[39;00m\u001b[38;5;124m.2f\u001b[39m\u001b[38;5;132;01m}\u001b[39;00m\u001b[38;5;124m\"\u001b[39m)\n\u001b[1;32m     38\u001b[0m \u001b[38;5;66;03m# Predictions\u001b[39;00m\n\u001b[0;32m---> 39\u001b[0m y_pred \u001b[38;5;241m=\u001b[39m \u001b[43mmodel\u001b[49m\u001b[38;5;241;43m.\u001b[39;49m\u001b[43mpredict_classes\u001b[49m(X_test_scaled)\n\u001b[1;32m     40\u001b[0m \u001b[38;5;28mprint\u001b[39m(classification_report(y_test, y_pred))\n",
      "\u001b[0;31mAttributeError\u001b[0m: 'Sequential' object has no attribute 'predict_classes'"
     ]
    }
   ],
   "source": [
    "import tensorflow as tf\n",
    "from tensorflow.keras.models import Sequential\n",
    "from tensorflow.keras.layers import Dense, Dropout\n",
    "from sklearn.model_selection import train_test_split\n",
    "from sklearn.preprocessing import StandardScaler\n",
    "from sklearn.metrics import accuracy_score, classification_report\n",
    "\n",
    "# Assuming X and y are already defined and preprocessed\n",
    "# Split data into training and testing sets\n",
    "X_train, X_test, y_train, y_test = train_test_split(X, y, test_size=0.2, random_state=42)\n",
    "\n",
    "# Optionally, scale the features\n",
    "scaler = StandardScaler()\n",
    "X_train_scaled = scaler.fit_transform(X_train)\n",
    "X_test_scaled = scaler.transform(X_test)\n",
    "\n",
    "# Build the neural network model\n",
    "model = Sequential([\n",
    "    Dense(64, activation='relu', input_shape=(X_train.shape[1],)),\n",
    "    Dropout(0.5),\n",
    "    Dense(32, activation='relu'),\n",
    "    Dropout(0.5),\n",
    "    Dense(1, activation='sigmoid')  # Assuming binary classification\n",
    "])\n",
    "\n",
    "# Compile the model\n",
    "model.compile(optimizer='adam',\n",
    "              loss='binary_crossentropy',\n",
    "              metrics=['accuracy'])\n",
    "\n",
    "# Train the model\n",
    "history = model.fit(X_train_scaled, y_train, epochs=20, batch_size=32, validation_data=(X_test_scaled, y_test), verbose=1)\n",
    "\n",
    "# Evaluate the model\n",
    "_, accuracy = model.evaluate(X_test_scaled, y_test)\n",
    "print(f\"Accuracy: {accuracy:.2f}\")"
   ]
  },
  {
   "cell_type": "code",
   "execution_count": 10,
   "metadata": {},
   "outputs": [
    {
     "name": "stdout",
     "output_type": "stream",
     "text": [
      "\u001b[1m1703/1703\u001b[0m \u001b[32m━━━━━━━━━━━━━━━━━━━━\u001b[0m\u001b[37m\u001b[0m \u001b[1m1s\u001b[0m 424us/step\n",
      "              precision    recall  f1-score   support\n",
      "\n",
      "           0       0.86      1.00      0.93     46897\n",
      "           1       0.00      0.00      0.00      7589\n",
      "\n",
      "    accuracy                           0.86     54486\n",
      "   macro avg       0.43      0.50      0.46     54486\n",
      "weighted avg       0.74      0.86      0.80     54486\n",
      "\n"
     ]
    },
    {
     "name": "stderr",
     "output_type": "stream",
     "text": [
      "/Library/Frameworks/Python.framework/Versions/3.11/lib/python3.11/site-packages/sklearn/metrics/_classification.py:1517: UndefinedMetricWarning: Precision is ill-defined and being set to 0.0 in labels with no predicted samples. Use `zero_division` parameter to control this behavior.\n",
      "  _warn_prf(average, modifier, f\"{metric.capitalize()} is\", len(result))\n",
      "/Library/Frameworks/Python.framework/Versions/3.11/lib/python3.11/site-packages/sklearn/metrics/_classification.py:1517: UndefinedMetricWarning: Precision is ill-defined and being set to 0.0 in labels with no predicted samples. Use `zero_division` parameter to control this behavior.\n",
      "  _warn_prf(average, modifier, f\"{metric.capitalize()} is\", len(result))\n",
      "/Library/Frameworks/Python.framework/Versions/3.11/lib/python3.11/site-packages/sklearn/metrics/_classification.py:1517: UndefinedMetricWarning: Precision is ill-defined and being set to 0.0 in labels with no predicted samples. Use `zero_division` parameter to control this behavior.\n",
      "  _warn_prf(average, modifier, f\"{metric.capitalize()} is\", len(result))\n"
     ]
    }
   ],
   "source": [
    "# Assuming you have already trained your model and have X_test_scaled and y_test ready\n",
    "\n",
    "# Predict probabilities\n",
    "y_pred_prob = model.predict(X_test_scaled)\n",
    "\n",
    "# Convert probabilities to binary predictions based on a threshold (e.g., 0.5 for binary classification)\n",
    "y_pred = (y_pred_prob > 0.5).astype(int)\n",
    "\n",
    "# Print classification report or any other metrics\n",
    "print(classification_report(y_test, y_pred))\n"
   ]
  },
  {
   "cell_type": "markdown",
   "metadata": {},
   "source": [
    "## Multilabel Classification"
   ]
  },
  {
   "cell_type": "code",
   "execution_count": 15,
   "metadata": {},
   "outputs": [],
   "source": [
    "# Encode the binary labels\n",
    "label_encoder = LabelEncoder()\n",
    "data['real_or_fake_general'] = label_encoder.fit_transform(data['real_or_fake'])\n",
    "\n",
    "# Prepare feature matrix and target vector\n",
    "X = data[x_cols]\n",
    "y = data['real_or_fake_general']"
   ]
  },
  {
   "cell_type": "code",
   "execution_count": 16,
   "metadata": {},
   "outputs": [
    {
     "data": {
      "text/plain": [
       "0         6\n",
       "1         3\n",
       "2         2\n",
       "3         5\n",
       "4         1\n",
       "         ..\n",
       "272423    3\n",
       "272424    0\n",
       "272425    4\n",
       "272426    1\n",
       "272427    5\n",
       "Name: real_or_fake_general, Length: 272428, dtype: int64"
      ]
     },
     "execution_count": 16,
     "metadata": {},
     "output_type": "execute_result"
    }
   ],
   "source": [
    "y"
   ]
  },
  {
   "cell_type": "code",
   "execution_count": 17,
   "metadata": {},
   "outputs": [],
   "source": [
    "# Handle missing values in X\n",
    "imputer = SimpleImputer(strategy='mean')\n",
    "X_imputed = imputer.fit_transform(X)"
   ]
  },
  {
   "cell_type": "code",
   "execution_count": 18,
   "metadata": {},
   "outputs": [
    {
     "name": "stdout",
     "output_type": "stream",
     "text": [
      "Epoch 1/20\n"
     ]
    },
    {
     "name": "stderr",
     "output_type": "stream",
     "text": [
      "/Library/Frameworks/Python.framework/Versions/3.11/lib/python3.11/site-packages/keras/src/layers/core/dense.py:87: UserWarning: Do not pass an `input_shape`/`input_dim` argument to a layer. When using Sequential models, prefer using an `Input(shape)` object as the first layer in the model instead.\n",
      "  super().__init__(activity_regularizer=activity_regularizer, **kwargs)\n"
     ]
    },
    {
     "name": "stdout",
     "output_type": "stream",
     "text": [
      "\u001b[1m6811/6811\u001b[0m \u001b[32m━━━━━━━━━━━━━━━━━━━━\u001b[0m\u001b[37m\u001b[0m \u001b[1m10s\u001b[0m 1ms/step - accuracy: 0.1287 - loss: nan - val_accuracy: 0.1298 - val_loss: nan\n",
      "Epoch 2/20\n",
      "\u001b[1m6811/6811\u001b[0m \u001b[32m━━━━━━━━━━━━━━━━━━━━\u001b[0m\u001b[37m\u001b[0m \u001b[1m11s\u001b[0m 2ms/step - accuracy: 0.1296 - loss: nan - val_accuracy: 0.1298 - val_loss: nan\n",
      "Epoch 3/20\n",
      "\u001b[1m6811/6811\u001b[0m \u001b[32m━━━━━━━━━━━━━━━━━━━━\u001b[0m\u001b[37m\u001b[0m \u001b[1m9s\u001b[0m 1ms/step - accuracy: 0.1285 - loss: nan - val_accuracy: 0.1298 - val_loss: nan\n",
      "Epoch 4/20\n",
      "\u001b[1m6811/6811\u001b[0m \u001b[32m━━━━━━━━━━━━━━━━━━━━\u001b[0m\u001b[37m\u001b[0m \u001b[1m9s\u001b[0m 1ms/step - accuracy: 0.1295 - loss: nan - val_accuracy: 0.1298 - val_loss: nan\n",
      "Epoch 5/20\n",
      "\u001b[1m6811/6811\u001b[0m \u001b[32m━━━━━━━━━━━━━━━━━━━━\u001b[0m\u001b[37m\u001b[0m \u001b[1m9s\u001b[0m 1ms/step - accuracy: 0.1292 - loss: nan - val_accuracy: 0.1298 - val_loss: nan\n",
      "Epoch 6/20\n",
      "\u001b[1m6811/6811\u001b[0m \u001b[32m━━━━━━━━━━━━━━━━━━━━\u001b[0m\u001b[37m\u001b[0m \u001b[1m8s\u001b[0m 1ms/step - accuracy: 0.1293 - loss: nan - val_accuracy: 0.1298 - val_loss: nan\n",
      "Epoch 7/20\n",
      "\u001b[1m6811/6811\u001b[0m \u001b[32m━━━━━━━━━━━━━━━━━━━━\u001b[0m\u001b[37m\u001b[0m \u001b[1m8s\u001b[0m 1ms/step - accuracy: 0.1277 - loss: nan - val_accuracy: 0.1298 - val_loss: nan\n",
      "Epoch 8/20\n",
      "\u001b[1m6811/6811\u001b[0m \u001b[32m━━━━━━━━━━━━━━━━━━━━\u001b[0m\u001b[37m\u001b[0m \u001b[1m8s\u001b[0m 1ms/step - accuracy: 0.1294 - loss: nan - val_accuracy: 0.1298 - val_loss: nan\n",
      "Epoch 9/20\n",
      "\u001b[1m6811/6811\u001b[0m \u001b[32m━━━━━━━━━━━━━━━━━━━━\u001b[0m\u001b[37m\u001b[0m \u001b[1m9s\u001b[0m 1ms/step - accuracy: 0.1284 - loss: nan - val_accuracy: 0.1298 - val_loss: nan\n",
      "Epoch 10/20\n",
      "\u001b[1m6811/6811\u001b[0m \u001b[32m━━━━━━━━━━━━━━━━━━━━\u001b[0m\u001b[37m\u001b[0m \u001b[1m9s\u001b[0m 1ms/step - accuracy: 0.1294 - loss: nan - val_accuracy: 0.1298 - val_loss: nan\n",
      "Epoch 11/20\n",
      "\u001b[1m6811/6811\u001b[0m \u001b[32m━━━━━━━━━━━━━━━━━━━━\u001b[0m\u001b[37m\u001b[0m \u001b[1m8s\u001b[0m 1ms/step - accuracy: 0.1290 - loss: nan - val_accuracy: 0.1298 - val_loss: nan\n",
      "Epoch 12/20\n",
      "\u001b[1m6811/6811\u001b[0m \u001b[32m━━━━━━━━━━━━━━━━━━━━\u001b[0m\u001b[37m\u001b[0m \u001b[1m9s\u001b[0m 1ms/step - accuracy: 0.1282 - loss: nan - val_accuracy: 0.1298 - val_loss: nan\n",
      "Epoch 13/20\n",
      "\u001b[1m6811/6811\u001b[0m \u001b[32m━━━━━━━━━━━━━━━━━━━━\u001b[0m\u001b[37m\u001b[0m \u001b[1m9s\u001b[0m 1ms/step - accuracy: 0.1287 - loss: nan - val_accuracy: 0.1298 - val_loss: nan\n",
      "Epoch 14/20\n",
      "\u001b[1m6811/6811\u001b[0m \u001b[32m━━━━━━━━━━━━━━━━━━━━\u001b[0m\u001b[37m\u001b[0m \u001b[1m8s\u001b[0m 1ms/step - accuracy: 0.1287 - loss: nan - val_accuracy: 0.1298 - val_loss: nan\n",
      "Epoch 15/20\n",
      "\u001b[1m6811/6811\u001b[0m \u001b[32m━━━━━━━━━━━━━━━━━━━━\u001b[0m\u001b[37m\u001b[0m \u001b[1m8s\u001b[0m 1ms/step - accuracy: 0.1296 - loss: nan - val_accuracy: 0.1298 - val_loss: nan\n",
      "Epoch 16/20\n",
      "\u001b[1m6811/6811\u001b[0m \u001b[32m━━━━━━━━━━━━━━━━━━━━\u001b[0m\u001b[37m\u001b[0m \u001b[1m8s\u001b[0m 1ms/step - accuracy: 0.1290 - loss: nan - val_accuracy: 0.1298 - val_loss: nan\n",
      "Epoch 17/20\n",
      "\u001b[1m6811/6811\u001b[0m \u001b[32m━━━━━━━━━━━━━━━━━━━━\u001b[0m\u001b[37m\u001b[0m \u001b[1m8s\u001b[0m 1ms/step - accuracy: 0.1297 - loss: nan - val_accuracy: 0.1298 - val_loss: nan\n",
      "Epoch 18/20\n",
      "\u001b[1m6811/6811\u001b[0m \u001b[32m━━━━━━━━━━━━━━━━━━━━\u001b[0m\u001b[37m\u001b[0m \u001b[1m9s\u001b[0m 1ms/step - accuracy: 0.1287 - loss: nan - val_accuracy: 0.1298 - val_loss: nan\n",
      "Epoch 19/20\n",
      "\u001b[1m6811/6811\u001b[0m \u001b[32m━━━━━━━━━━━━━━━━━━━━\u001b[0m\u001b[37m\u001b[0m \u001b[1m9s\u001b[0m 1ms/step - accuracy: 0.1294 - loss: nan - val_accuracy: 0.1298 - val_loss: nan\n",
      "Epoch 20/20\n",
      "\u001b[1m6811/6811\u001b[0m \u001b[32m━━━━━━━━━━━━━━━━━━━━\u001b[0m\u001b[37m\u001b[0m \u001b[1m9s\u001b[0m 1ms/step - accuracy: 0.1297 - loss: nan - val_accuracy: 0.1298 - val_loss: nan\n",
      "\u001b[1m1703/1703\u001b[0m \u001b[32m━━━━━━━━━━━━━━━━━━━━\u001b[0m\u001b[37m\u001b[0m \u001b[1m1s\u001b[0m 637us/step - accuracy: 0.1297 - loss: nan\n",
      "Accuracy: 0.13\n"
     ]
    }
   ],
   "source": [
    "# Assuming X and y are already defined and preprocessed\n",
    "# Split data into training and testing sets\n",
    "X_train, X_test, y_train, y_test = train_test_split(X, y, test_size=0.2, random_state=42)\n",
    "\n",
    "# Optionally, scale the features\n",
    "scaler = StandardScaler()\n",
    "X_train_scaled = scaler.fit_transform(X_train)\n",
    "X_test_scaled = scaler.transform(X_test)\n",
    "\n",
    "# Build the neural network model\n",
    "model = Sequential([\n",
    "    Dense(64, activation='relu', input_shape=(X_train.shape[1],)),\n",
    "    Dropout(0.5),\n",
    "    Dense(32, activation='relu'),\n",
    "    Dropout(0.5),\n",
    "    Dense(1, activation='sigmoid')  # Assuming binary classification\n",
    "])\n",
    "\n",
    "# Compile the model\n",
    "model.compile(optimizer='adam',\n",
    "              loss='binary_crossentropy',\n",
    "              metrics=['accuracy'])\n",
    "\n",
    "# Train the model\n",
    "history = model.fit(X_train_scaled, y_train, epochs=20, batch_size=32, validation_data=(X_test_scaled, y_test), verbose=1)\n",
    "\n",
    "# Evaluate the model\n",
    "_, accuracy = model.evaluate(X_test_scaled, y_test)\n",
    "print(f\"Accuracy: {accuracy:.2f}\")\n"
   ]
  },
  {
   "cell_type": "code",
   "execution_count": null,
   "metadata": {},
   "outputs": [],
   "source": [
    "# Assuming you have already trained your model and have X_test_scaled and y_test ready\n",
    "\n",
    "# Predict probabilities\n",
    "y_pred_prob = model.predict(X_test_scaled)\n",
    "\n",
    "# Convert probabilities to binary predictions based on a threshold (e.g., 0.5 for binary classification)\n",
    "y_pred = (y_pred_prob > 0.5).astype(int)\n",
    "\n",
    "# Print classification report or any other metrics\n",
    "print(classification_report(y_test, y_pred))"
   ]
  },
  {
   "cell_type": "markdown",
   "metadata": {},
   "source": []
  }
 ],
 "metadata": {
  "kernelspec": {
   "display_name": "Python 3",
   "language": "python",
   "name": "python3"
  },
  "language_info": {
   "codemirror_mode": {
    "name": "ipython",
    "version": 3
   },
   "file_extension": ".py",
   "mimetype": "text/x-python",
   "name": "python",
   "nbconvert_exporter": "python",
   "pygments_lexer": "ipython3",
   "version": "3.11.9"
  }
 },
 "nbformat": 4,
 "nbformat_minor": 2
}
